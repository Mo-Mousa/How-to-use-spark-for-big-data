{
 "cells": [
  {
   "cell_type": "markdown",
   "metadata": {
    "id": "5MrBC530gmg5"
   },
   "source": [
    "Let's start with your project: \n",
    "\n",
    "Are you a data scientist? \n",
    "\n",
    "I think you are an awesome a data scientist.\n",
    "\n",
    "### **Problem** \n",
    "**Our goal is to create a predictive model that can answer the following question:**\n",
    "\n",
    "**What kind of people had a better chance of surviving?**"
   ]
  },
  {
   "cell_type": "markdown",
   "metadata": {
    "id": "qhBfwzBgioTD"
   },
   "source": [
    "**Data about passengers:**\n",
    "*   Name\n",
    "*   Age\n",
    "*   Gender.\n"
   ]
  },
  {
   "cell_type": "markdown",
   "metadata": {
    "id": "DIEH8iZqi-sk"
   },
   "source": [
    "## Install and Import Libraries\n",
    "Let's install PySpark:"
   ]
  },
  {
   "cell_type": "code",
   "execution_count": 5,
   "metadata": {
    "id": "oj1HhvIOY5Yz"
   },
   "outputs": [],
   "source": [
    "import findspark\n",
    "findspark.init()\n",
    "from pyspark.sql import *\n",
    "from pyspark.sql.functions import col,countDistinct,expr,concat,regexp_extract"
   ]
  },
  {
   "cell_type": "markdown",
   "metadata": {
    "id": "SDp80mG9jmfU"
   },
   "source": [
    "## Build Spark Session"
   ]
  },
  {
   "cell_type": "code",
   "execution_count": 6,
   "metadata": {
    "id": "ttzML9fpjE5a"
   },
   "outputs": [],
   "source": [
    "spark = (SparkSession\n",
    "         .builder\n",
    "         .appName('PracticalSession')\n",
    "         .getOrCreate())"
   ]
  },
  {
   "cell_type": "markdown",
   "metadata": {
    "id": "TiqECDzLj1Mg"
   },
   "source": [
    "## Data Loading\n"
   ]
  },
  {
   "cell_type": "markdown",
   "metadata": {
    "id": "vn-hxNggkTqV"
   },
   "source": [
    "You have two datasets: \n",
    "* Train  \n",
    "* Test."
   ]
  },
  {
   "cell_type": "markdown",
   "metadata": {
    "id": "x8-A8M7QmKDJ"
   },
   "source": [
    "Read two datasets: \n",
    "* Train\n",
    "* Test.\n",
    "\n"
   ]
  },
  {
   "cell_type": "code",
   "execution_count": 3,
   "metadata": {
    "id": "Mx2qAccBk15y"
   },
   "outputs": [],
   "source": [
    "Train_df = spark.read.csv('train.csv',header=True,inferSchema=True)\n",
    "Test_df  = spark.read.csv('test.csv',header=True,inferSchema=True) "
   ]
  },
  {
   "cell_type": "markdown",
   "metadata": {
    "id": "Lj2ANTnWmSCq"
   },
   "source": [
    "Let's work with train dataset:"
   ]
  },
  {
   "cell_type": "markdown",
   "metadata": {
    "id": "b5mWJR30lNs5"
   },
   "source": [
    "**Confirm if this is a dataframe or not:**"
   ]
  },
  {
   "cell_type": "code",
   "execution_count": 4,
   "metadata": {
    "id": "tEYTePrzk9yl"
   },
   "outputs": [
    {
     "name": "stdout",
     "output_type": "stream",
     "text": [
      "<class 'pyspark.sql.dataframe.DataFrame'>\n"
     ]
    }
   ],
   "source": [
    "print(type(Train_df))"
   ]
  },
  {
   "cell_type": "markdown",
   "metadata": {
    "id": "lvLJElPrlT4i"
   },
   "source": [
    "**Show 5 rows.**"
   ]
  },
  {
   "cell_type": "code",
   "execution_count": 5,
   "metadata": {
    "id": "jYwhqvV8lnO0"
   },
   "outputs": [
    {
     "name": "stdout",
     "output_type": "stream",
     "text": [
      "+-----------+--------+------+--------------------+------+----+-----+-----+----------------+-------+-----+--------+\n",
      "|PassengerId|Survived|Pclass|                Name|   Sex| Age|SibSp|Parch|          Ticket|   Fare|Cabin|Embarked|\n",
      "+-----------+--------+------+--------------------+------+----+-----+-----+----------------+-------+-----+--------+\n",
      "|          1|       0|     3|Braund, Mr. Owen ...|  male|22.0|    1|    0|       A/5 21171|   7.25| null|       S|\n",
      "|          2|       1|     1|Cumings, Mrs. Joh...|female|38.0|    1|    0|        PC 17599|71.2833|  C85|       C|\n",
      "|          3|       1|     3|Heikkinen, Miss. ...|female|26.0|    0|    0|STON/O2. 3101282|  7.925| null|       S|\n",
      "|          4|       1|     1|Futrelle, Mrs. Ja...|female|35.0|    1|    0|          113803|   53.1| C123|       S|\n",
      "|          5|       0|     3|Allen, Mr. Willia...|  male|35.0|    0|    0|          373450|   8.05| null|       S|\n",
      "+-----------+--------+------+--------------------+------+----+-----+-----+----------------+-------+-----+--------+\n",
      "only showing top 5 rows\n",
      "\n"
     ]
    }
   ],
   "source": [
    "Train_df.show(5)"
   ]
  },
  {
   "cell_type": "markdown",
   "metadata": {
    "id": "6QIYVxRXlnnw"
   },
   "source": [
    "**Display schema for the dataset:**"
   ]
  },
  {
   "cell_type": "code",
   "execution_count": 6,
   "metadata": {
    "id": "pcvERiICl1Ep"
   },
   "outputs": [
    {
     "name": "stdout",
     "output_type": "stream",
     "text": [
      "root\n",
      " |-- PassengerId: integer (nullable = true)\n",
      " |-- Survived: integer (nullable = true)\n",
      " |-- Pclass: integer (nullable = true)\n",
      " |-- Name: string (nullable = true)\n",
      " |-- Sex: string (nullable = true)\n",
      " |-- Age: double (nullable = true)\n",
      " |-- SibSp: integer (nullable = true)\n",
      " |-- Parch: integer (nullable = true)\n",
      " |-- Ticket: string (nullable = true)\n",
      " |-- Fare: double (nullable = true)\n",
      " |-- Cabin: string (nullable = true)\n",
      " |-- Embarked: string (nullable = true)\n",
      "\n"
     ]
    }
   ],
   "source": [
    "Train_df.printSchema()"
   ]
  },
  {
   "cell_type": "markdown",
   "metadata": {
    "id": "xmE3Wd80l1S6"
   },
   "source": [
    "**Statistical summary:**"
   ]
  },
  {
   "cell_type": "code",
   "execution_count": 7,
   "metadata": {
    "id": "cNY0SItol5Mo"
   },
   "outputs": [
    {
     "data": {
      "text/html": [
       "<div>\n",
       "<style scoped>\n",
       "    .dataframe tbody tr th:only-of-type {\n",
       "        vertical-align: middle;\n",
       "    }\n",
       "\n",
       "    .dataframe tbody tr th {\n",
       "        vertical-align: top;\n",
       "    }\n",
       "\n",
       "    .dataframe thead th {\n",
       "        text-align: right;\n",
       "    }\n",
       "</style>\n",
       "<table border=\"1\" class=\"dataframe\">\n",
       "  <thead>\n",
       "    <tr style=\"text-align: right;\">\n",
       "      <th></th>\n",
       "      <th>0</th>\n",
       "      <th>1</th>\n",
       "      <th>2</th>\n",
       "      <th>3</th>\n",
       "      <th>4</th>\n",
       "      <th>5</th>\n",
       "      <th>6</th>\n",
       "      <th>7</th>\n",
       "    </tr>\n",
       "  </thead>\n",
       "  <tbody>\n",
       "    <tr>\n",
       "      <th>summary</th>\n",
       "      <td>count</td>\n",
       "      <td>mean</td>\n",
       "      <td>stddev</td>\n",
       "      <td>min</td>\n",
       "      <td>25%</td>\n",
       "      <td>50%</td>\n",
       "      <td>75%</td>\n",
       "      <td>max</td>\n",
       "    </tr>\n",
       "    <tr>\n",
       "      <th>PassengerId</th>\n",
       "      <td>891</td>\n",
       "      <td>446.0</td>\n",
       "      <td>257.3538420152301</td>\n",
       "      <td>1</td>\n",
       "      <td>223</td>\n",
       "      <td>446</td>\n",
       "      <td>669</td>\n",
       "      <td>891</td>\n",
       "    </tr>\n",
       "    <tr>\n",
       "      <th>Survived</th>\n",
       "      <td>891</td>\n",
       "      <td>0.3838383838383838</td>\n",
       "      <td>0.48659245426485753</td>\n",
       "      <td>0</td>\n",
       "      <td>0</td>\n",
       "      <td>0</td>\n",
       "      <td>1</td>\n",
       "      <td>1</td>\n",
       "    </tr>\n",
       "    <tr>\n",
       "      <th>Pclass</th>\n",
       "      <td>891</td>\n",
       "      <td>2.308641975308642</td>\n",
       "      <td>0.8360712409770491</td>\n",
       "      <td>1</td>\n",
       "      <td>2</td>\n",
       "      <td>3</td>\n",
       "      <td>3</td>\n",
       "      <td>3</td>\n",
       "    </tr>\n",
       "    <tr>\n",
       "      <th>Name</th>\n",
       "      <td>891</td>\n",
       "      <td>None</td>\n",
       "      <td>None</td>\n",
       "      <td>\"Andersson, Mr. August Edvard (\"\"Wennerstrom\"\")\"</td>\n",
       "      <td>None</td>\n",
       "      <td>None</td>\n",
       "      <td>None</td>\n",
       "      <td>van Melkebeke, Mr. Philemon</td>\n",
       "    </tr>\n",
       "    <tr>\n",
       "      <th>Sex</th>\n",
       "      <td>891</td>\n",
       "      <td>None</td>\n",
       "      <td>None</td>\n",
       "      <td>female</td>\n",
       "      <td>None</td>\n",
       "      <td>None</td>\n",
       "      <td>None</td>\n",
       "      <td>male</td>\n",
       "    </tr>\n",
       "    <tr>\n",
       "      <th>Age</th>\n",
       "      <td>714</td>\n",
       "      <td>29.69911764705882</td>\n",
       "      <td>14.526497332334035</td>\n",
       "      <td>0.42</td>\n",
       "      <td>20.0</td>\n",
       "      <td>28.0</td>\n",
       "      <td>38.0</td>\n",
       "      <td>80.0</td>\n",
       "    </tr>\n",
       "    <tr>\n",
       "      <th>SibSp</th>\n",
       "      <td>891</td>\n",
       "      <td>0.5230078563411896</td>\n",
       "      <td>1.1027434322934315</td>\n",
       "      <td>0</td>\n",
       "      <td>0</td>\n",
       "      <td>0</td>\n",
       "      <td>1</td>\n",
       "      <td>8</td>\n",
       "    </tr>\n",
       "    <tr>\n",
       "      <th>Parch</th>\n",
       "      <td>891</td>\n",
       "      <td>0.38159371492704824</td>\n",
       "      <td>0.8060572211299488</td>\n",
       "      <td>0</td>\n",
       "      <td>0</td>\n",
       "      <td>0</td>\n",
       "      <td>0</td>\n",
       "      <td>6</td>\n",
       "    </tr>\n",
       "    <tr>\n",
       "      <th>Ticket</th>\n",
       "      <td>891</td>\n",
       "      <td>260318.54916792738</td>\n",
       "      <td>471609.26868834975</td>\n",
       "      <td>110152</td>\n",
       "      <td>19996.0</td>\n",
       "      <td>236171.0</td>\n",
       "      <td>347743.0</td>\n",
       "      <td>WE/P 5735</td>\n",
       "    </tr>\n",
       "    <tr>\n",
       "      <th>Fare</th>\n",
       "      <td>891</td>\n",
       "      <td>32.2042079685746</td>\n",
       "      <td>49.69342859718089</td>\n",
       "      <td>0.0</td>\n",
       "      <td>7.8958</td>\n",
       "      <td>14.4542</td>\n",
       "      <td>31.0</td>\n",
       "      <td>512.3292</td>\n",
       "    </tr>\n",
       "    <tr>\n",
       "      <th>Cabin</th>\n",
       "      <td>204</td>\n",
       "      <td>None</td>\n",
       "      <td>None</td>\n",
       "      <td>A10</td>\n",
       "      <td>None</td>\n",
       "      <td>None</td>\n",
       "      <td>None</td>\n",
       "      <td>T</td>\n",
       "    </tr>\n",
       "    <tr>\n",
       "      <th>Embarked</th>\n",
       "      <td>889</td>\n",
       "      <td>None</td>\n",
       "      <td>None</td>\n",
       "      <td>C</td>\n",
       "      <td>None</td>\n",
       "      <td>None</td>\n",
       "      <td>None</td>\n",
       "      <td>S</td>\n",
       "    </tr>\n",
       "  </tbody>\n",
       "</table>\n",
       "</div>"
      ],
      "text/plain": [
       "                 0                    1                    2  \\\n",
       "summary      count                 mean               stddev   \n",
       "PassengerId    891                446.0    257.3538420152301   \n",
       "Survived       891   0.3838383838383838  0.48659245426485753   \n",
       "Pclass         891    2.308641975308642   0.8360712409770491   \n",
       "Name           891                 None                 None   \n",
       "Sex            891                 None                 None   \n",
       "Age            714    29.69911764705882   14.526497332334035   \n",
       "SibSp          891   0.5230078563411896   1.1027434322934315   \n",
       "Parch          891  0.38159371492704824   0.8060572211299488   \n",
       "Ticket         891   260318.54916792738   471609.26868834975   \n",
       "Fare           891     32.2042079685746    49.69342859718089   \n",
       "Cabin          204                 None                 None   \n",
       "Embarked       889                 None                 None   \n",
       "\n",
       "                                                            3        4  \\\n",
       "summary                                                   min      25%   \n",
       "PassengerId                                                 1      223   \n",
       "Survived                                                    0        0   \n",
       "Pclass                                                      1        2   \n",
       "Name         \"Andersson, Mr. August Edvard (\"\"Wennerstrom\"\")\"     None   \n",
       "Sex                                                    female     None   \n",
       "Age                                                      0.42     20.0   \n",
       "SibSp                                                       0        0   \n",
       "Parch                                                       0        0   \n",
       "Ticket                                                 110152  19996.0   \n",
       "Fare                                                      0.0   7.8958   \n",
       "Cabin                                                     A10     None   \n",
       "Embarked                                                    C     None   \n",
       "\n",
       "                    5         6                            7  \n",
       "summary           50%       75%                          max  \n",
       "PassengerId       446       669                          891  \n",
       "Survived            0         1                            1  \n",
       "Pclass              3         3                            3  \n",
       "Name             None      None  van Melkebeke, Mr. Philemon  \n",
       "Sex              None      None                         male  \n",
       "Age              28.0      38.0                         80.0  \n",
       "SibSp               0         1                            8  \n",
       "Parch               0         0                            6  \n",
       "Ticket       236171.0  347743.0                    WE/P 5735  \n",
       "Fare          14.4542      31.0                     512.3292  \n",
       "Cabin            None      None                            T  \n",
       "Embarked         None      None                            S  "
      ]
     },
     "execution_count": 7,
     "metadata": {},
     "output_type": "execute_result"
    }
   ],
   "source": [
    "Train_df.summary().toPandas().T"
   ]
  },
  {
   "cell_type": "markdown",
   "metadata": {
    "id": "HiFaIEQTl70_"
   },
   "source": [
    "## EDA - Exploratory Data Analysis"
   ]
  },
  {
   "cell_type": "markdown",
   "metadata": {
    "id": "PSNPOnP8mw2Q"
   },
   "source": [
    "**Display count for the train dataset:**"
   ]
  },
  {
   "cell_type": "code",
   "execution_count": 8,
   "metadata": {
    "id": "zrtpG11Fl9HM"
   },
   "outputs": [
    {
     "data": {
      "text/plain": [
       "891"
      ]
     },
     "execution_count": 8,
     "metadata": {},
     "output_type": "execute_result"
    }
   ],
   "source": [
    "Train_df.count()\n"
   ]
  },
  {
   "cell_type": "markdown",
   "metadata": {
    "id": "t_6nnTfxm9_x"
   },
   "source": [
    "**Can you answer this question:** \n",
    "\n",
    "**How many people survived, and how many didn't survive?** \n",
    "\n",
    "**Please save data in a variable.**"
   ]
  },
  {
   "cell_type": "code",
   "execution_count": 9,
   "metadata": {
    "id": "QDoqPwyomYxA"
   },
   "outputs": [
    {
     "name": "stdout",
     "output_type": "stream",
     "text": [
      "+--------+\n",
      "|Survived|\n",
      "+--------+\n",
      "|       0|\n",
      "|       1|\n",
      "|       1|\n",
      "|       1|\n",
      "|       0|\n",
      "|       0|\n",
      "|       0|\n",
      "|       0|\n",
      "|       1|\n",
      "|       1|\n",
      "|       1|\n",
      "|       1|\n",
      "|       0|\n",
      "|       0|\n",
      "|       0|\n",
      "|       1|\n",
      "|       0|\n",
      "|       1|\n",
      "|       0|\n",
      "|       1|\n",
      "+--------+\n",
      "only showing top 20 rows\n",
      "\n"
     ]
    }
   ],
   "source": [
    "Train_df.select('Survived').show()"
   ]
  },
  {
   "cell_type": "code",
   "execution_count": 10,
   "metadata": {},
   "outputs": [],
   "source": [
    "\n",
    "Survived = Train_df.filter(Train_df['Survived']=='1').count()"
   ]
  },
  {
   "cell_type": "code",
   "execution_count": 11,
   "metadata": {},
   "outputs": [],
   "source": [
    "Not_Survived =Train_df.filter(Train_df['Survived']=='0').count()"
   ]
  },
  {
   "cell_type": "markdown",
   "metadata": {
    "id": "P8DUtZXPn46m"
   },
   "source": [
    "**Display your result:**"
   ]
  },
  {
   "cell_type": "code",
   "execution_count": 12,
   "metadata": {
    "id": "0XHAK8ceoCMU"
   },
   "outputs": [
    {
     "name": "stdout",
     "output_type": "stream",
     "text": [
      "Survived 342\n",
      "Not Survived 549\n"
     ]
    }
   ],
   "source": [
    "print('Survived' ,Train_df.filter(Train_df['Survived']=='1').count())\n",
    "print('Not Survived' ,Train_df.filter(Train_df['Survived']=='0').count())"
   ]
  },
  {
   "cell_type": "markdown",
   "metadata": {
    "id": "Ygsg7wQqor9a"
   },
   "source": [
    "**Can you display your answer in ratio form?(Hint: Use UDF.)**\n",
    "\n",
    "\n",
    "\n",
    "\n"
   ]
  },
  {
   "cell_type": "code",
   "execution_count": 13,
   "metadata": {
    "id": "3uiaN29PoQnf"
   },
   "outputs": [],
   "source": [
    "def ratio(x,a):\n",
    "    return (x/a)*100\n",
    "    "
   ]
  },
  {
   "cell_type": "code",
   "execution_count": 14,
   "metadata": {
    "id": "PvzEwesgoQ3s"
   },
   "outputs": [
    {
     "name": "stdout",
     "output_type": "stream",
     "text": [
      "Survied ratio  38.38383838383838\n",
      "Not Survied ratio  61.61616161616161\n"
     ]
    }
   ],
   "source": [
    "print('Survied ratio ',ratio(Survived,Train_df.count()))\n",
    "print('Not Survied ratio ',ratio(Not_Survived,Train_df.count()))\n",
    "\n"
   ]
  },
  {
   "cell_type": "markdown",
   "metadata": {
    "id": "Q7Aker_lp1h4"
   },
   "source": [
    "**Can you get the number of males and females?**\n"
   ]
  },
  {
   "cell_type": "code",
   "execution_count": 15,
   "metadata": {
    "id": "XllkDlo3ongJ"
   },
   "outputs": [
    {
     "name": "stdout",
     "output_type": "stream",
     "text": [
      "male number is  577\n",
      "female number is  314\n"
     ]
    }
   ],
   "source": [
    "male_num = Train_df.filter(Train_df['Sex']=='male').count()\n",
    "\n",
    "print('male number is ',male_num)\n",
    "\n",
    "female_num = Train_df.filter(Train_df['Sex']=='female').count()\n",
    "\n",
    "print('female number is ',female_num)\n"
   ]
  },
  {
   "cell_type": "markdown",
   "metadata": {
    "id": "YHFaJ15zqtEV"
   },
   "source": [
    "**1. What is the average number of survivors of each gender?**\n",
    "\n",
    "**2. What is the number of survivors of each gender?**\n",
    "\n",
    "(Hint: Group by the \"sex\" column.)"
   ]
  },
  {
   "cell_type": "code",
   "execution_count": 16,
   "metadata": {},
   "outputs": [
    {
     "name": "stdout",
     "output_type": "stream",
     "text": [
      "+------+--------+-----+\n",
      "|   Sex|Survived|count|\n",
      "+------+--------+-----+\n",
      "|  male|       0|  468|\n",
      "|female|       1|  233|\n",
      "|female|       0|   81|\n",
      "|  male|       1|  109|\n",
      "+------+--------+-----+\n",
      "\n"
     ]
    }
   ],
   "source": [
    "gender_sur = Train_df.groupBy(\"Sex\",\"Survived\").count().show()\n",
    "gender_sur"
   ]
  },
  {
   "cell_type": "code",
   "execution_count": 17,
   "metadata": {},
   "outputs": [
    {
     "name": "stdout",
     "output_type": "stream",
     "text": [
      "+------+--------+-----+\n",
      "|   Sex|Survived|count|\n",
      "+------+--------+-----+\n",
      "|female|       0|   81|\n",
      "|female|       1|  233|\n",
      "|  male|       1|  109|\n",
      "|  male|       0|  468|\n",
      "+------+--------+-----+\n",
      "\n"
     ]
    }
   ],
   "source": [
    "cms = [\"Sex\",\"Survived\",\"count\"]\n",
    "data =  [(\"female\", \"0\",\"81\"),\n",
    "        (\"female\", \"1\",\"233\"),\n",
    "        (\"male\", \"1\",\"109\"),\n",
    "        (\"male\",\"0\",\"468\")]\n",
    "gender_sur = spark.createDataFrame(data=data,schema=cms)\n",
    "gender_sur.show()"
   ]
  },
  {
   "cell_type": "markdown",
   "metadata": {
    "id": "kCEdYNdArtRN"
   },
   "source": [
    "**Create temporary view PySpark:**"
   ]
  },
  {
   "cell_type": "code",
   "execution_count": 18,
   "metadata": {
    "id": "YjlK6HDUqsI5"
   },
   "outputs": [],
   "source": [
    "Train_df.createOrReplaceTempView('Train')"
   ]
  },
  {
   "cell_type": "markdown",
   "metadata": {
    "id": "JXNePifnshHr"
   },
   "source": [
    "**How many people survived, and how many didn't survive? By SQL:**"
   ]
  },
  {
   "cell_type": "code",
   "execution_count": 19,
   "metadata": {
    "id": "0HxfPRTMslqk"
   },
   "outputs": [
    {
     "data": {
      "text/plain": [
       "342"
      ]
     },
     "execution_count": 19,
     "metadata": {},
     "output_type": "execute_result"
    }
   ],
   "source": [
    "Sur_Sql = spark.sql(\"\"\"SELECT Survived \n",
    "          FROM Train \n",
    "          WHERE Survived == '1' \n",
    "          \"\"\").count()\n",
    "Sur_Sql"
   ]
  },
  {
   "cell_type": "code",
   "execution_count": 20,
   "metadata": {},
   "outputs": [
    {
     "data": {
      "text/plain": [
       "549"
      ]
     },
     "execution_count": 20,
     "metadata": {},
     "output_type": "execute_result"
    }
   ],
   "source": [
    "Not_Sur_Sql = spark.sql(\"\"\"SELECT Survived \n",
    "          FROM Train \n",
    "          WHERE Survived == '0' \n",
    "          \"\"\").count()\n",
    "Not_Sur_Sql"
   ]
  },
  {
   "cell_type": "markdown",
   "metadata": {
    "id": "sVCdY6EasFWV"
   },
   "source": [
    "**Can you display the number of survivors from each gender as a ratio?**\n",
    "\n",
    "(Hint: Group by \"sex\" column.)\n",
    "\n",
    "**Can you do this via SQL?**"
   ]
  },
  {
   "cell_type": "code",
   "execution_count": 21,
   "metadata": {
    "id": "7xQc3pUUr3HF"
   },
   "outputs": [
    {
     "name": "stdout",
     "output_type": "stream",
     "text": [
      "+------+---------------------------------------------------------------------------------------------+\n",
      "|   Sex|((CAST(sum(CAST(Survived AS BIGINT)) AS DOUBLE) / CAST(891 AS DOUBLE)) * CAST(100 AS DOUBLE))|\n",
      "+------+---------------------------------------------------------------------------------------------+\n",
      "|  male|                                                                             12.2334455667789|\n",
      "|female|                                                                            26.15039281705948|\n",
      "+------+---------------------------------------------------------------------------------------------+\n",
      "\n"
     ]
    }
   ],
   "source": [
    "survivors = spark.sql(\"\"\"SELECT  Sex ,(SUM(Survived)/891)*100\n",
    "                           FROM Train\n",
    "                           WHERE Survived == '1'\n",
    "                           GROUP BY Survived, Sex\n",
    "                        \"\"\").show()\n",
    "survivors"
   ]
  },
  {
   "cell_type": "markdown",
   "metadata": {
    "id": "j6QXc5V8uu3Y"
   },
   "source": [
    "**Display a ratio for p-class:**\n"
   ]
  },
  {
   "cell_type": "code",
   "execution_count": 22,
   "metadata": {
    "id": "Mscs2mDFdFsD"
   },
   "outputs": [
    {
     "name": "stdout",
     "output_type": "stream",
     "text": [
      "+------+---------------------------------------------------------------------------------------------+\n",
      "|Pclass|((CAST(sum(CAST(Survived AS BIGINT)) AS DOUBLE) / CAST(891 AS DOUBLE)) * CAST(100 AS DOUBLE))|\n",
      "+------+---------------------------------------------------------------------------------------------+\n",
      "|     2|                                                                            9.764309764309765|\n",
      "|     1|                                                                            15.26374859708193|\n",
      "|     3|                                                                            13.35578002244669|\n",
      "+------+---------------------------------------------------------------------------------------------+\n",
      "\n"
     ]
    }
   ],
   "source": [
    "p_class = spark.sql(\"\"\"SELECT Pclass,(SUM(Survived) /891)*100\n",
    "                        FROM Train \n",
    "                        WHERE Survived == '1'\n",
    "                        GROUP BY Survived,Pclass\n",
    "          \"\"\").show()\n",
    "p_class"
   ]
  },
  {
   "cell_type": "markdown",
   "metadata": {
    "id": "EX0klxwAvg6J"
   },
   "source": [
    "**Let's take a break and continue after this.**"
   ]
  },
  {
   "cell_type": "markdown",
   "metadata": {
    "id": "_ctM9t8atxJl"
   },
   "source": [
    "## Data Cleaning"
   ]
  },
  {
   "cell_type": "markdown",
   "metadata": {
    "id": "7CfanZTCt6Wk"
   },
   "source": [
    "**First and foremost, we must merge both the train and test datasets. (Hint: The union function can do this.)**\n",
    "\n"
   ]
  },
  {
   "cell_type": "code",
   "execution_count": 23,
   "metadata": {
    "id": "8Nm8S1K0r4uY"
   },
   "outputs": [],
   "source": [
    "df = Train_df.union(Test_df)\n"
   ]
  },
  {
   "cell_type": "markdown",
   "metadata": {
    "id": "jI7AD8FLz3iO"
   },
   "source": [
    "**Display count:**"
   ]
  },
  {
   "cell_type": "code",
   "execution_count": 24,
   "metadata": {
    "id": "I4rd9e6nzzr5"
   },
   "outputs": [
    {
     "data": {
      "text/plain": [
       "1329"
      ]
     },
     "execution_count": 24,
     "metadata": {},
     "output_type": "execute_result"
    }
   ],
   "source": [
    "df.count()"
   ]
  },
  {
   "cell_type": "markdown",
   "metadata": {
    "id": "lVQlr9vDy7Y4"
   },
   "source": [
    "**Temporary view PySpark:**"
   ]
  },
  {
   "cell_type": "code",
   "execution_count": 25,
   "metadata": {
    "id": "s_WERAL8wvJa"
   },
   "outputs": [],
   "source": [
    "df.createOrReplaceTempView('Data')"
   ]
  },
  {
   "cell_type": "markdown",
   "metadata": {
    "id": "5R4Miuy0z_uP"
   },
   "source": [
    "**Can you define the number of null values in each column?**\n"
   ]
  },
  {
   "cell_type": "code",
   "execution_count": 26,
   "metadata": {},
   "outputs": [
    {
     "data": {
      "text/plain": [
       "[('PassengerId', 0),\n",
       " ('Survived', 0),\n",
       " ('Pclass', 0),\n",
       " ('Name', 0),\n",
       " ('Sex', 0),\n",
       " ('Age', 265),\n",
       " ('SibSp', 0),\n",
       " ('Parch', 0),\n",
       " ('Ticket', 0),\n",
       " ('Fare', 0),\n",
       " ('Cabin', 1021),\n",
       " ('Embarked', 3)]"
      ]
     },
     "execution_count": 26,
     "metadata": {},
     "output_type": "execute_result"
    }
   ],
   "source": [
    "null_colum = []\n",
    "for i in df.columns:\n",
    "    x = df.filter(col(i).isNull()).count()\n",
    "    null_colum.append((i,x))\n",
    "    \n",
    "null_colum  \n",
    "\n"
   ]
  },
  {
   "cell_type": "markdown",
   "metadata": {
    "id": "tBX8cJ000aqe"
   },
   "source": [
    "**Create Dataframe for null values**\n",
    "\n",
    "1. Column\n",
    "2. Number of missing values."
   ]
  },
  {
   "cell_type": "code",
   "execution_count": 27,
   "metadata": {
    "id": "ITmyUelNxjJM"
   },
   "outputs": [
    {
     "name": "stdout",
     "output_type": "stream",
     "text": [
      "+-----------+------------------------+\n",
      "|     Column|Number of missing values|\n",
      "+-----------+------------------------+\n",
      "|PassengerId|                       0|\n",
      "|   Survived|                       0|\n",
      "|     Pclass|                       0|\n",
      "|       Name|                       0|\n",
      "|        Sex|                       0|\n",
      "|        Age|                     265|\n",
      "|      SibSp|                       0|\n",
      "|      Parch|                       0|\n",
      "|     Ticket|                       0|\n",
      "|       Fare|                       0|\n",
      "|      Cabin|                    1021|\n",
      "|   Embarked|                       3|\n",
      "+-----------+------------------------+\n",
      "\n"
     ]
    }
   ],
   "source": [
    "cms=['Column','Number of missing values']\n",
    "\n",
    "df_null = spark.createDataFrame(data=null_colum,schema=cms)\n",
    "df_null.show()"
   ]
  },
  {
   "cell_type": "markdown",
   "metadata": {
    "id": "cuKrOi5a0-Ma"
   },
   "source": [
    "## Preprocessing "
   ]
  },
  {
   "cell_type": "markdown",
   "metadata": {
    "id": "Txa8NZIO1JaP"
   },
   "source": [
    "**Can you show me the name column from your temporary table?**"
   ]
  },
  {
   "cell_type": "code",
   "execution_count": 28,
   "metadata": {
    "id": "m7yXqJoJy35k"
   },
   "outputs": [
    {
     "name": "stdout",
     "output_type": "stream",
     "text": [
      "+----------------------------------------------------------------------------------+\n",
      "|Name                                                                              |\n",
      "+----------------------------------------------------------------------------------+\n",
      "|Braund, Mr. Owen Harris                                                           |\n",
      "|Cumings, Mrs. John Bradley (Florence Briggs Thayer)                               |\n",
      "|Heikkinen, Miss. Laina                                                            |\n",
      "|Futrelle, Mrs. Jacques Heath (Lily May Peel)                                      |\n",
      "|Allen, Mr. William Henry                                                          |\n",
      "|Moran, Mr. James                                                                  |\n",
      "|McCarthy, Mr. Timothy J                                                           |\n",
      "|Palsson, Master. Gosta Leonard                                                    |\n",
      "|Johnson, Mrs. Oscar W (Elisabeth Vilhelmina Berg)                                 |\n",
      "|Nasser, Mrs. Nicholas (Adele Achem)                                               |\n",
      "|Sandstrom, Miss. Marguerite Rut                                                   |\n",
      "|Bonnell, Miss. Elizabeth                                                          |\n",
      "|Saundercock, Mr. William Henry                                                    |\n",
      "|Andersson, Mr. Anders Johan                                                       |\n",
      "|Vestrom, Miss. Hulda Amanda Adolfina                                              |\n",
      "|Hewlett, Mrs. (Mary D Kingcome)                                                   |\n",
      "|Rice, Master. Eugene                                                              |\n",
      "|Williams, Mr. Charles Eugene                                                      |\n",
      "|Vander Planke, Mrs. Julius (Emelia Maria Vandemoortele)                           |\n",
      "|Masselmani, Mrs. Fatima                                                           |\n",
      "|Fynney, Mr. Joseph J                                                              |\n",
      "|Beesley, Mr. Lawrence                                                             |\n",
      "|\"McGowan, Miss. Anna \"\"Annie\"\"\"                                                   |\n",
      "|Sloper, Mr. William Thompson                                                      |\n",
      "|Palsson, Miss. Torborg Danira                                                     |\n",
      "|Asplund, Mrs. Carl Oscar (Selma Augusta Emilia Johansson)                         |\n",
      "|Emir, Mr. Farred Chehab                                                           |\n",
      "|Fortune, Mr. Charles Alexander                                                    |\n",
      "|\"O'Dwyer, Miss. Ellen \"\"Nellie\"\"\"                                                 |\n",
      "|Todoroff, Mr. Lalio                                                               |\n",
      "|Uruchurtu, Don. Manuel E                                                          |\n",
      "|Spencer, Mrs. William Augustus (Marie Eugenie)                                    |\n",
      "|Glynn, Miss. Mary Agatha                                                          |\n",
      "|Wheadon, Mr. Edward H                                                             |\n",
      "|Meyer, Mr. Edgar Joseph                                                           |\n",
      "|Holverson, Mr. Alexander Oskar                                                    |\n",
      "|Mamee, Mr. Hanna                                                                  |\n",
      "|Cann, Mr. Ernest Charles                                                          |\n",
      "|Vander Planke, Miss. Augusta Maria                                                |\n",
      "|Nicola-Yarred, Miss. Jamila                                                       |\n",
      "|Ahlin, Mrs. Johan (Johanna Persdotter Larsson)                                    |\n",
      "|Turpin, Mrs. William John Robert (Dorothy Ann Wonnacott)                          |\n",
      "|Kraeff, Mr. Theodor                                                               |\n",
      "|Laroche, Miss. Simonne Marie Anne Andree                                          |\n",
      "|Devaney, Miss. Margaret Delia                                                     |\n",
      "|Rogers, Mr. William John                                                          |\n",
      "|Lennon, Mr. Denis                                                                 |\n",
      "|O'Driscoll, Miss. Bridget                                                         |\n",
      "|Samaan, Mr. Youssef                                                               |\n",
      "|Arnold-Franchi, Mrs. Josef (Josefine Franchi)                                     |\n",
      "|Panula, Master. Juha Niilo                                                        |\n",
      "|Nosworthy, Mr. Richard Cater                                                      |\n",
      "|Harper, Mrs. Henry Sleeper (Myna Haxtun)                                          |\n",
      "|Faunthorpe, Mrs. Lizzie (Elizabeth Anne Wilkinson)                                |\n",
      "|Ostby, Mr. Engelhart Cornelius                                                    |\n",
      "|Woolner, Mr. Hugh                                                                 |\n",
      "|Rugg, Miss. Emily                                                                 |\n",
      "|Novel, Mr. Mansouer                                                               |\n",
      "|West, Miss. Constance Mirium                                                      |\n",
      "|Goodwin, Master. William Frederick                                                |\n",
      "|Sirayanian, Mr. Orsen                                                             |\n",
      "|Icard, Miss. Amelie                                                               |\n",
      "|Harris, Mr. Henry Birkhardt                                                       |\n",
      "|Skoog, Master. Harald                                                             |\n",
      "|Stewart, Mr. Albert A                                                             |\n",
      "|Moubarek, Master. Gerios                                                          |\n",
      "|Nye, Mrs. (Elizabeth Ramell)                                                      |\n",
      "|Crease, Mr. Ernest James                                                          |\n",
      "|Andersson, Miss. Erna Alexandra                                                   |\n",
      "|Kink, Mr. Vincenz                                                                 |\n",
      "|Jenkin, Mr. Stephen Curnow                                                        |\n",
      "|Goodwin, Miss. Lillian Amy                                                        |\n",
      "|Hood, Mr. Ambrose Jr                                                              |\n",
      "|Chronopoulos, Mr. Apostolos                                                       |\n",
      "|Bing, Mr. Lee                                                                     |\n",
      "|Moen, Mr. Sigurd Hansen                                                           |\n",
      "|Staneff, Mr. Ivan                                                                 |\n",
      "|Moutal, Mr. Rahamin Haim                                                          |\n",
      "|Caldwell, Master. Alden Gates                                                     |\n",
      "|Dowdell, Miss. Elizabeth                                                          |\n",
      "|Waelens, Mr. Achille                                                              |\n",
      "|Sheerlinck, Mr. Jan Baptist                                                       |\n",
      "|McDermott, Miss. Brigdet Delia                                                    |\n",
      "|Carrau, Mr. Francisco M                                                           |\n",
      "|Ilett, Miss. Bertha                                                               |\n",
      "|Backstrom, Mrs. Karl Alfred (Maria Mathilda Gustafsson)                           |\n",
      "|Ford, Mr. William Neal                                                            |\n",
      "|Slocovski, Mr. Selman Francis                                                     |\n",
      "|Fortune, Miss. Mabel Helen                                                        |\n",
      "|Celotti, Mr. Francesco                                                            |\n",
      "|Christmann, Mr. Emil                                                              |\n",
      "|Andreasson, Mr. Paul Edvin                                                        |\n",
      "|Chaffee, Mr. Herbert Fuller                                                       |\n",
      "|Dean, Mr. Bertram Frank                                                           |\n",
      "|Coxon, Mr. Daniel                                                                 |\n",
      "|Shorney, Mr. Charles Joseph                                                       |\n",
      "|Goldschmidt, Mr. George B                                                         |\n",
      "|Greenfield, Mr. William Bertram                                                   |\n",
      "|Doling, Mrs. John T (Ada Julia Bone)                                              |\n",
      "|Kantor, Mr. Sinai                                                                 |\n",
      "|Petranec, Miss. Matilda                                                           |\n",
      "|\"Petroff, Mr. Pastcho (\"\"Pentcho\"\")\"                                              |\n",
      "|White, Mr. Richard Frasar                                                         |\n",
      "|Johansson, Mr. Gustaf Joel                                                        |\n",
      "|Gustafsson, Mr. Anders Vilhelm                                                    |\n",
      "|Mionoff, Mr. Stoytcho                                                             |\n",
      "|Salkjelsvik, Miss. Anna Kristine                                                  |\n",
      "|Moss, Mr. Albert Johan                                                            |\n",
      "|Rekic, Mr. Tido                                                                   |\n",
      "|Moran, Miss. Bertha                                                               |\n",
      "|Porter, Mr. Walter Chamberlain                                                    |\n",
      "|Zabour, Miss. Hileni                                                              |\n",
      "|Barton, Mr. David John                                                            |\n",
      "|Jussila, Miss. Katriina                                                           |\n",
      "|Attalah, Miss. Malake                                                             |\n",
      "|Pekoniemi, Mr. Edvard                                                             |\n",
      "|Connors, Mr. Patrick                                                              |\n",
      "|Turpin, Mr. William John Robert                                                   |\n",
      "|Baxter, Mr. Quigg Edmond                                                          |\n",
      "|Andersson, Miss. Ellis Anna Maria                                                 |\n",
      "|Hickman, Mr. Stanley George                                                       |\n",
      "|Moore, Mr. Leonard Charles                                                        |\n",
      "|Nasser, Mr. Nicholas                                                              |\n",
      "|Webber, Miss. Susan                                                               |\n",
      "|White, Mr. Percival Wayland                                                       |\n",
      "|Nicola-Yarred, Master. Elias                                                      |\n",
      "|McMahon, Mr. Martin                                                               |\n",
      "|Madsen, Mr. Fridtjof Arne                                                         |\n",
      "|Peter, Miss. Anna                                                                 |\n",
      "|Ekstrom, Mr. Johan                                                                |\n",
      "|Drazenoic, Mr. Jozef                                                              |\n",
      "|Coelho, Mr. Domingos Fernandeo                                                    |\n",
      "|Robins, Mrs. Alexander A (Grace Charity Laury)                                    |\n",
      "|Weisz, Mrs. Leopold (Mathilde Francoise Pede)                                     |\n",
      "|Sobey, Mr. Samuel James Hayden                                                    |\n",
      "|Richard, Mr. Emile                                                                |\n",
      "|Newsom, Miss. Helen Monypeny                                                      |\n",
      "|Futrelle, Mr. Jacques Heath                                                       |\n",
      "|Osen, Mr. Olaf Elon                                                               |\n",
      "|Giglio, Mr. Victor                                                                |\n",
      "|Boulos, Mrs. Joseph (Sultana)                                                     |\n",
      "|Nysten, Miss. Anna Sofia                                                          |\n",
      "|Hakkarainen, Mrs. Pekka Pietari (Elin Matilda Dolck)                              |\n",
      "|Burke, Mr. Jeremiah                                                               |\n",
      "|Andrew, Mr. Edgardo Samuel                                                        |\n",
      "|Nicholls, Mr. Joseph Charles                                                      |\n",
      "|\"Andersson, Mr. August Edvard (\"\"Wennerstrom\"\")\"                                  |\n",
      "|\"Ford, Miss. Robina Maggie \"\"Ruby\"\"\"                                              |\n",
      "|\"Navratil, Mr. Michel (\"\"Louis M Hoffman\"\")\"                                      |\n",
      "|Byles, Rev. Thomas Roussel Davids                                                 |\n",
      "|Bateman, Rev. Robert James                                                        |\n",
      "|Pears, Mrs. Thomas (Edith Wearne)                                                 |\n",
      "|Meo, Mr. Alfonzo                                                                  |\n",
      "|van Billiard, Mr. Austin Blyler                                                   |\n",
      "|Olsen, Mr. Ole Martin                                                             |\n",
      "|Williams, Mr. Charles Duane                                                       |\n",
      "|\"Gilnagh, Miss. Katherine \"\"Katie\"\"\"                                              |\n",
      "|Corn, Mr. Harry                                                                   |\n",
      "|Smiljanic, Mr. Mile                                                               |\n",
      "|Sage, Master. Thomas Henry                                                        |\n",
      "|Cribb, Mr. John Hatfield                                                          |\n",
      "|\"Watt, Mrs. James (Elizabeth \"\"Bessie\"\" Inglis Milne)\"                            |\n",
      "|Bengtsson, Mr. John Viktor                                                        |\n",
      "|Calic, Mr. Jovo                                                                   |\n",
      "|Panula, Master. Eino Viljami                                                      |\n",
      "|\"Goldsmith, Master. Frank John William \"\"Frankie\"\"\"                               |\n",
      "|Chibnall, Mrs. (Edith Martha Bowerman)                                            |\n",
      "|Skoog, Mrs. William (Anna Bernhardina Karlsson)                                   |\n",
      "|Baumann, Mr. John D                                                               |\n",
      "|Ling, Mr. Lee                                                                     |\n",
      "|Van der hoef, Mr. Wyckoff                                                         |\n",
      "|Rice, Master. Arthur                                                              |\n",
      "|Johnson, Miss. Eleanor Ileen                                                      |\n",
      "|Sivola, Mr. Antti Wilhelm                                                         |\n",
      "|Smith, Mr. James Clinch                                                           |\n",
      "|Klasen, Mr. Klas Albin                                                            |\n",
      "|Lefebre, Master. Henry Forbes                                                     |\n",
      "|Isham, Miss. Ann Elizabeth                                                        |\n",
      "|Hale, Mr. Reginald                                                                |\n",
      "|Leonard, Mr. Lionel                                                               |\n",
      "|Sage, Miss. Constance Gladys                                                      |\n",
      "|Pernot, Mr. Rene                                                                  |\n",
      "|Asplund, Master. Clarence Gustaf Hugo                                             |\n",
      "|Becker, Master. Richard F                                                         |\n",
      "|Kink-Heilmann, Miss. Luise Gretchen                                               |\n",
      "|Rood, Mr. Hugh Roscoe                                                             |\n",
      "|\"O'Brien, Mrs. Thomas (Johanna \"\"Hannah\"\" Godfrey)\"                               |\n",
      "|\"Romaine, Mr. Charles Hallace (\"\"Mr C Rolmane\"\")\"                                 |\n",
      "|Bourke, Mr. John                                                                  |\n",
      "|Turcin, Mr. Stjepan                                                               |\n",
      "|Pinsky, Mrs. (Rosa)                                                               |\n",
      "|Carbines, Mr. William                                                             |\n",
      "|Andersen-Jensen, Miss. Carla Christine Nielsine                                   |\n",
      "|Navratil, Master. Michel M                                                        |\n",
      "|Brown, Mrs. James Joseph (Margaret Tobin)                                         |\n",
      "|Lurette, Miss. Elise                                                              |\n",
      "|Mernagh, Mr. Robert                                                               |\n",
      "|Olsen, Mr. Karl Siegwart Andreas                                                  |\n",
      "|\"Madigan, Miss. Margaret \"\"Maggie\"\"\"                                              |\n",
      "|\"Yrois, Miss. Henriette (\"\"Mrs Harbeck\"\")\"                                        |\n",
      "|Vande Walle, Mr. Nestor Cyriel                                                    |\n",
      "|Sage, Mr. Frederick                                                               |\n",
      "|Johanson, Mr. Jakob Alfred                                                        |\n",
      "|Youseff, Mr. Gerious                                                              |\n",
      "|\"Cohen, Mr. Gurshon \"\"Gus\"\"\"                                                      |\n",
      "|Strom, Miss. Telma Matilda                                                        |\n",
      "|Backstrom, Mr. Karl Alfred                                                        |\n",
      "|Albimona, Mr. Nassef Cassem                                                       |\n",
      "|\"Carr, Miss. Helen \"\"Ellen\"\"\"                                                     |\n",
      "|Blank, Mr. Henry                                                                  |\n",
      "|Ali, Mr. Ahmed                                                                    |\n",
      "|Cameron, Miss. Clear Annie                                                        |\n",
      "|Perkin, Mr. John Henry                                                            |\n",
      "|Givard, Mr. Hans Kristensen                                                       |\n",
      "|Kiernan, Mr. Philip                                                               |\n",
      "|Newell, Miss. Madeleine                                                           |\n",
      "|Honkanen, Miss. Eliina                                                            |\n",
      "|Jacobsohn, Mr. Sidney Samuel                                                      |\n",
      "|Bazzani, Miss. Albina                                                             |\n",
      "|Harris, Mr. Walter                                                                |\n",
      "|Sunderland, Mr. Victor Francis                                                    |\n",
      "|Bracken, Mr. James H                                                              |\n",
      "|Green, Mr. George Henry                                                           |\n",
      "|Nenkoff, Mr. Christo                                                              |\n",
      "|Hoyt, Mr. Frederick Maxfield                                                      |\n",
      "|Berglund, Mr. Karl Ivar Sven                                                      |\n",
      "|Mellors, Mr. William John                                                         |\n",
      "|\"Lovell, Mr. John Hall (\"\"Henry\"\")\"                                               |\n",
      "|Fahlstrom, Mr. Arne Jonas                                                         |\n",
      "|Lefebre, Miss. Mathilde                                                           |\n",
      "|Harris, Mrs. Henry Birkhardt (Irene Wallach)                                      |\n",
      "|Larsson, Mr. Bengt Edvin                                                          |\n",
      "|Sjostedt, Mr. Ernst Adolf                                                         |\n",
      "|Asplund, Miss. Lillian Gertrud                                                    |\n",
      "|Leyson, Mr. Robert William Norman                                                 |\n",
      "|Harknett, Miss. Alice Phoebe                                                      |\n",
      "|Hold, Mr. Stephen                                                                 |\n",
      "|\"Collyer, Miss. Marjorie \"\"Lottie\"\"\"                                              |\n",
      "|Pengelly, Mr. Frederick William                                                   |\n",
      "|Hunt, Mr. George Henry                                                            |\n",
      "|Zabour, Miss. Thamine                                                             |\n",
      "|\"Murphy, Miss. Katherine \"\"Kate\"\"\"                                                |\n",
      "|Coleridge, Mr. Reginald Charles                                                   |\n",
      "|Maenpaa, Mr. Matti Alexanteri                                                     |\n",
      "|Attalah, Mr. Sleiman                                                              |\n",
      "|Minahan, Dr. William Edward                                                       |\n",
      "|Lindahl, Miss. Agda Thorilda Viktoria                                             |\n",
      "|Hamalainen, Mrs. William (Anna)                                                   |\n",
      "|Beckwith, Mr. Richard Leonard                                                     |\n",
      "|Carter, Rev. Ernest Courtenay                                                     |\n",
      "|Reed, Mr. James George                                                            |\n",
      "|Strom, Mrs. Wilhelm (Elna Matilda Persson)                                        |\n",
      "|Stead, Mr. William Thomas                                                         |\n",
      "|Lobb, Mr. William Arthur                                                          |\n",
      "|Rosblom, Mrs. Viktor (Helena Wilhelmina)                                          |\n",
      "|Touma, Mrs. Darwis (Hanne Youssef Razi)                                           |\n",
      "|Thorne, Mrs. Gertrude Maybelle                                                    |\n",
      "|Cherry, Miss. Gladys                                                              |\n",
      "|Ward, Miss. Anna                                                                  |\n",
      "|Parrish, Mrs. (Lutie Davis)                                                       |\n",
      "|Smith, Mr. Thomas                                                                 |\n",
      "|Asplund, Master. Edvin Rojj Felix                                                 |\n",
      "|Taussig, Mr. Emil                                                                 |\n",
      "|Harrison, Mr. William                                                             |\n",
      "|Henry, Miss. Delia                                                                |\n",
      "|Reeves, Mr. David                                                                 |\n",
      "|Panula, Mr. Ernesti Arvid                                                         |\n",
      "|Persson, Mr. Ernst Ulrik                                                          |\n",
      "|Graham, Mrs. William Thompson (Edith Junkins)                                     |\n",
      "|Bissette, Miss. Amelia                                                            |\n",
      "|Cairns, Mr. Alexander                                                             |\n",
      "|Tornquist, Mr. William Henry                                                      |\n",
      "|Mellinger, Mrs. (Elizabeth Anne Maidment)                                         |\n",
      "|Natsch, Mr. Charles H                                                             |\n",
      "|\"Healy, Miss. Hanora \"\"Nora\"\"\"                                                    |\n",
      "|Andrews, Miss. Kornelia Theodosia                                                 |\n",
      "|Lindblom, Miss. Augusta Charlotta                                                 |\n",
      "|\"Parkes, Mr. Francis \"\"Frank\"\"\"                                                   |\n",
      "|Rice, Master. Eric                                                                |\n",
      "|Abbott, Mrs. Stanton (Rosa Hunt)                                                  |\n",
      "|Duane, Mr. Frank                                                                  |\n",
      "|Olsson, Mr. Nils Johan Goransson                                                  |\n",
      "|de Pelsmaeker, Mr. Alfons                                                         |\n",
      "|Dorking, Mr. Edward Arthur                                                        |\n",
      "|Smith, Mr. Richard William                                                        |\n",
      "|Stankovic, Mr. Ivan                                                               |\n",
      "|de Mulder, Mr. Theodore                                                           |\n",
      "|Naidenoff, Mr. Penko                                                              |\n",
      "|Hosono, Mr. Masabumi                                                              |\n",
      "|Connolly, Miss. Kate                                                              |\n",
      "|\"Barber, Miss. Ellen \"\"Nellie\"\"\"                                                  |\n",
      "|Bishop, Mrs. Dickinson H (Helen Walton)                                           |\n",
      "|Levy, Mr. Rene Jacques                                                            |\n",
      "|Haas, Miss. Aloisia                                                               |\n",
      "|Mineff, Mr. Ivan                                                                  |\n",
      "|Lewy, Mr. Ervin G                                                                 |\n",
      "|Hanna, Mr. Mansour                                                                |\n",
      "|Allison, Miss. Helen Loraine                                                      |\n",
      "|Saalfeld, Mr. Adolphe                                                             |\n",
      "|Baxter, Mrs. James (Helene DeLaudeniere Chaput)                                   |\n",
      "|\"Kelly, Miss. Anna Katherine \"\"Annie Kate\"\"\"                                      |\n",
      "|McCoy, Mr. Bernard                                                                |\n",
      "|Johnson, Mr. William Cahoone Jr                                                   |\n",
      "|Keane, Miss. Nora A                                                               |\n",
      "|\"Williams, Mr. Howard Hugh \"\"Harry\"\"\"                                             |\n",
      "|Allison, Master. Hudson Trevor                                                    |\n",
      "|Fleming, Miss. Margaret                                                           |\n",
      "|Penasco y Castellana, Mrs. Victor de Satode (Maria Josefa Perez de Soto y Vallejo)|\n",
      "|Abelson, Mr. Samuel                                                               |\n",
      "|Francatelli, Miss. Laura Mabel                                                    |\n",
      "|Hays, Miss. Margaret Bechstein                                                    |\n",
      "|Ryerson, Miss. Emily Borie                                                        |\n",
      "|Lahtinen, Mrs. William (Anna Sylfven)                                             |\n",
      "|Hendekovic, Mr. Ignjac                                                            |\n",
      "|Hart, Mr. Benjamin                                                                |\n",
      "|Nilsson, Miss. Helmina Josefina                                                   |\n",
      "|Kantor, Mrs. Sinai (Miriam Sternin)                                               |\n",
      "|Moraweck, Dr. Ernest                                                              |\n",
      "|Wick, Miss. Mary Natalie                                                          |\n",
      "|Spedden, Mrs. Frederic Oakley (Margaretta Corning Stone)                          |\n",
      "|Dennis, Mr. Samuel                                                                |\n",
      "|Danoff, Mr. Yoto                                                                  |\n",
      "|Slayter, Miss. Hilda Mary                                                         |\n",
      "|Caldwell, Mrs. Albert Francis (Sylvia Mae Harbaugh)                               |\n",
      "|Sage, Mr. George John Jr                                                          |\n",
      "|Young, Miss. Marie Grice                                                          |\n",
      "|Nysveen, Mr. Johan Hansen                                                         |\n",
      "|Ball, Mrs. (Ada E Hall)                                                           |\n",
      "|Goldsmith, Mrs. Frank John (Emily Alice Brown)                                    |\n",
      "|Hippach, Miss. Jean Gertrude                                                      |\n",
      "|McCoy, Miss. Agnes                                                                |\n",
      "|Partner, Mr. Austen                                                               |\n",
      "|Graham, Mr. George Edward                                                         |\n",
      "|Vander Planke, Mr. Leo Edmondus                                                   |\n",
      "|Frauenthal, Mrs. Henry William (Clara Heinsheimer)                                |\n",
      "|Denkoff, Mr. Mitto                                                                |\n",
      "|Pears, Mr. Thomas Clinton                                                         |\n",
      "|Burns, Miss. Elizabeth Margaret                                                   |\n",
      "|Dahl, Mr. Karl Edwart                                                             |\n",
      "|Blackwell, Mr. Stephen Weart                                                      |\n",
      "|Navratil, Master. Edmond Roger                                                    |\n",
      "|Fortune, Miss. Alice Elizabeth                                                    |\n",
      "|Collander, Mr. Erik Gustaf                                                        |\n",
      "|Sedgwick, Mr. Charles Frederick Waddington                                        |\n",
      "|Fox, Mr. Stanley Hubert                                                           |\n",
      "|\"Brown, Miss. Amelia \"\"Mildred\"\"\"                                                 |\n",
      "|Smith, Miss. Marion Elsie                                                         |\n",
      "|Davison, Mrs. Thomas Henry (Mary E Finck)                                         |\n",
      "|\"Coutts, Master. William Loch \"\"William\"\"\"                                        |\n",
      "|Dimic, Mr. Jovan                                                                  |\n",
      "|Odahl, Mr. Nils Martin                                                            |\n",
      "|Williams-Lambert, Mr. Fletcher Fellows                                            |\n",
      "|Elias, Mr. Tannous                                                                |\n",
      "|Arnold-Franchi, Mr. Josef                                                         |\n",
      "|Yousif, Mr. Wazli                                                                 |\n",
      "|Vanden Steen, Mr. Leo Peter                                                       |\n",
      "|Bowerman, Miss. Elsie Edith                                                       |\n",
      "|Funk, Miss. Annie Clemmer                                                         |\n",
      "|McGovern, Miss. Mary                                                              |\n",
      "|\"Mockler, Miss. Helen Mary \"\"Ellie\"\"\"                                             |\n",
      "|Skoog, Mr. Wilhelm                                                                |\n",
      "|del Carlo, Mr. Sebastiano                                                         |\n",
      "|Barbara, Mrs. (Catherine David)                                                   |\n",
      "|Asim, Mr. Adola                                                                   |\n",
      "|O'Brien, Mr. Thomas                                                               |\n",
      "|Adahl, Mr. Mauritz Nils Martin                                                    |\n",
      "|Warren, Mrs. Frank Manley (Anna Sophia Atkinson)                                  |\n",
      "|Moussa, Mrs. (Mantoura Boulos)                                                    |\n",
      "|Jermyn, Miss. Annie                                                               |\n",
      "|Aubart, Mme. Leontine Pauline                                                     |\n",
      "|Harder, Mr. George Achilles                                                       |\n",
      "|Wiklund, Mr. Jakob Alfred                                                         |\n",
      "|Beavan, Mr. William Thomas                                                        |\n",
      "|Ringhini, Mr. Sante                                                               |\n",
      "|Palsson, Miss. Stina Viola                                                        |\n",
      "|Meyer, Mrs. Edgar Joseph (Leila Saks)                                             |\n",
      "|Landergren, Miss. Aurora Adelia                                                   |\n",
      "|Widener, Mr. Harry Elkins                                                         |\n",
      "|Betros, Mr. Tannous                                                               |\n",
      "|Gustafsson, Mr. Karl Gideon                                                       |\n",
      "|Bidois, Miss. Rosalie                                                             |\n",
      "|\"Nakid, Miss. Maria (\"\"Mary\"\")\"                                                   |\n",
      "|Tikkanen, Mr. Juho                                                                |\n",
      "|Holverson, Mrs. Alexander Oskar (Mary Aline Towner)                               |\n",
      "|Plotcharsky, Mr. Vasil                                                            |\n",
      "|Davies, Mr. Charles Henry                                                         |\n",
      "|Goodwin, Master. Sidney Leonard                                                   |\n",
      "|Buss, Miss. Kate                                                                  |\n",
      "|Sadlier, Mr. Matthew                                                              |\n",
      "|Lehmann, Miss. Bertha                                                             |\n",
      "|Carter, Mr. William Ernest                                                        |\n",
      "|Jansson, Mr. Carl Olof                                                            |\n",
      "|Gustafsson, Mr. Johan Birger                                                      |\n",
      "|Newell, Miss. Marjorie                                                            |\n",
      "|Sandstrom, Mrs. Hjalmar (Agnes Charlotta Bengtsson)                               |\n",
      "|Johansson, Mr. Erik                                                               |\n",
      "|Olsson, Miss. Elina                                                               |\n",
      "|McKane, Mr. Peter David                                                           |\n",
      "|Pain, Dr. Alfred                                                                  |\n",
      "|Trout, Mrs. William H (Jessie L)                                                  |\n",
      "|Niskanen, Mr. Juha                                                                |\n",
      "|Adams, Mr. John                                                                   |\n",
      "|Jussila, Miss. Mari Aina                                                          |\n",
      "|Hakkarainen, Mr. Pekka Pietari                                                    |\n",
      "|Oreskovic, Miss. Marija                                                           |\n",
      "|Gale, Mr. Shadrach                                                                |\n",
      "|Widegren, Mr. Carl/Charles Peter                                                  |\n",
      "|Richards, Master. William Rowe                                                    |\n",
      "|Birkeland, Mr. Hans Martin Monsen                                                 |\n",
      "|Lefebre, Miss. Ida                                                                |\n",
      "|Sdycoff, Mr. Todor                                                                |\n",
      "|Hart, Mr. Henry                                                                   |\n",
      "|Minahan, Miss. Daisy E                                                            |\n",
      "|Cunningham, Mr. Alfred Fleming                                                    |\n",
      "|Sundman, Mr. Johan Julian                                                         |\n",
      "|Meek, Mrs. Thomas (Annie Louise Rowley)                                           |\n",
      "|Drew, Mrs. James Vivian (Lulu Thorne Christian)                                   |\n",
      "|Silven, Miss. Lyyli Karoliina                                                     |\n",
      "|Matthews, Mr. William John                                                        |\n",
      "|Van Impe, Miss. Catharina                                                         |\n",
      "|Gheorgheff, Mr. Stanio                                                            |\n",
      "|Charters, Mr. David                                                               |\n",
      "|Zimmerman, Mr. Leo                                                                |\n",
      "|Danbom, Mrs. Ernst Gilbert (Anna Sigrid Maria Brogren)                            |\n",
      "|Rosblom, Mr. Viktor Richard                                                       |\n",
      "|Wiseman, Mr. Phillippe                                                            |\n",
      "|Clarke, Mrs. Charles V (Ada Maria Winfield)                                       |\n",
      "|\"Phillips, Miss. Kate Florence (\"\"Mrs Kate Louise Phillips Marshall\"\")\"           |\n",
      "|Flynn, Mr. James                                                                  |\n",
      "|Pickard, Mr. Berk (Berk Trembisky)                                                |\n",
      "|Bjornstrom-Steffansson, Mr. Mauritz Hakan                                         |\n",
      "|Thorneycroft, Mrs. Percival (Florence Kate White)                                 |\n",
      "|Louch, Mrs. Charles Alexander (Alice Adelaide Slow)                               |\n",
      "|Kallio, Mr. Nikolai Erland                                                        |\n",
      "|Silvey, Mr. William Baird                                                         |\n",
      "|Carter, Miss. Lucile Polk                                                         |\n",
      "|\"Ford, Miss. Doolina Margaret \"\"Daisy\"\"\"                                          |\n",
      "|Richards, Mrs. Sidney (Emily Hocking)                                             |\n",
      "|Fortune, Mr. Mark                                                                 |\n",
      "|Kvillner, Mr. Johan Henrik Johannesson                                            |\n",
      "|Hart, Mrs. Benjamin (Esther Ada Bloomfield)                                       |\n",
      "|Hampe, Mr. Leon                                                                   |\n",
      "|Petterson, Mr. Johan Emil                                                         |\n",
      "|Reynaldo, Ms. Encarnacion                                                         |\n",
      "|Johannesen-Bratthammer, Mr. Bernt                                                 |\n",
      "|Dodge, Master. Washington                                                         |\n",
      "|Mellinger, Miss. Madeleine Violet                                                 |\n",
      "|Seward, Mr. Frederic Kimber                                                       |\n",
      "|Baclini, Miss. Marie Catherine                                                    |\n",
      "|Peuchen, Major. Arthur Godfrey                                                    |\n",
      "|West, Mr. Edwy Arthur                                                             |\n",
      "|Hagland, Mr. Ingvald Olai Olsen                                                   |\n",
      "|Foreman, Mr. Benjamin Laventall                                                   |\n",
      "|Goldenberg, Mr. Samuel L                                                          |\n",
      "|Peduzzi, Mr. Joseph                                                               |\n",
      "|Jalsevac, Mr. Ivan                                                                |\n",
      "|Millet, Mr. Francis Davis                                                         |\n",
      "|Kenyon, Mrs. Frederick R (Marion)                                                 |\n",
      "|Toomey, Miss. Ellen                                                               |\n",
      "|O'Connor, Mr. Maurice                                                             |\n",
      "|Anderson, Mr. Harry                                                               |\n",
      "|Morley, Mr. William                                                               |\n",
      "|Gee, Mr. Arthur H                                                                 |\n",
      "|Milling, Mr. Jacob Christian                                                      |\n",
      "|Maisner, Mr. Simon                                                                |\n",
      "|Goncalves, Mr. Manuel Estanslas                                                   |\n",
      "|Campbell, Mr. William                                                             |\n",
      "|Smart, Mr. John Montgomery                                                        |\n",
      "|Scanlan, Mr. James                                                                |\n",
      "|Baclini, Miss. Helene Barbara                                                     |\n",
      "|Keefe, Mr. Arthur                                                                 |\n",
      "|Cacic, Mr. Luka                                                                   |\n",
      "|West, Mrs. Edwy Arthur (Ada Mary Worth)                                           |\n",
      "|Jerwan, Mrs. Amin S (Marie Marthe Thuillard)                                      |\n",
      "|Strandberg, Miss. Ida Sofia                                                       |\n",
      "|Clifford, Mr. George Quincy                                                       |\n",
      "|Renouf, Mr. Peter Henry                                                           |\n",
      "|Braund, Mr. Lewis Richard                                                         |\n",
      "|Karlsson, Mr. Nils August                                                         |\n",
      "|Hirvonen, Miss. Hildur E                                                          |\n",
      "|Goodwin, Master. Harold Victor                                                    |\n",
      "|\"Frost, Mr. Anthony Wood \"\"Archie\"\"\"                                              |\n",
      "|Rouse, Mr. Richard Henry                                                          |\n",
      "|Turkula, Mrs. (Hedwig)                                                            |\n",
      "|Bishop, Mr. Dickinson H                                                           |\n",
      "|Lefebre, Miss. Jeannie                                                            |\n",
      "|Hoyt, Mrs. Frederick Maxfield (Jane Anne Forby)                                   |\n",
      "|Kent, Mr. Edward Austin                                                           |\n",
      "|Somerton, Mr. Francis William                                                     |\n",
      "|\"Coutts, Master. Eden Leslie \"\"Neville\"\"\"                                         |\n",
      "|Hagland, Mr. Konrad Mathias Reiersen                                              |\n",
      "|Windelov, Mr. Einar                                                               |\n",
      "|Molson, Mr. Harry Markland                                                        |\n",
      "|Artagaveytia, Mr. Ramon                                                           |\n",
      "|Stanley, Mr. Edward Roland                                                        |\n",
      "|Yousseff, Mr. Gerious                                                             |\n",
      "|Eustis, Miss. Elizabeth Mussey                                                    |\n",
      "|Shellard, Mr. Frederick William                                                   |\n",
      "|Allison, Mrs. Hudson J C (Bessie Waldo Daniels)                                   |\n",
      "|Svensson, Mr. Olof                                                                |\n",
      "|Calic, Mr. Petar                                                                  |\n",
      "|Canavan, Miss. Mary                                                               |\n",
      "|O'Sullivan, Miss. Bridget Mary                                                    |\n",
      "|Laitinen, Miss. Kristina Sofia                                                    |\n",
      "|Maioni, Miss. Roberta                                                             |\n",
      "|Penasco y Castellana, Mr. Victor de Satode                                        |\n",
      "|Quick, Mrs. Frederick Charles (Jane Richards)                                     |\n",
      "|\"Bradley, Mr. George (\"\"George Arthur Brayton\"\")\"                                 |\n",
      "|Olsen, Mr. Henry Margido                                                          |\n",
      "|Lang, Mr. Fang                                                                    |\n",
      "|Daly, Mr. Eugene Patrick                                                          |\n",
      "|Webber, Mr. James                                                                 |\n",
      "|McGough, Mr. James Robert                                                         |\n",
      "|Rothschild, Mrs. Martin (Elizabeth L. Barrett)                                    |\n",
      "|Coleff, Mr. Satio                                                                 |\n",
      "|Walker, Mr. William Anderson                                                      |\n",
      "|Lemore, Mrs. (Amelia Milley)                                                      |\n",
      "|Ryan, Mr. Patrick                                                                 |\n",
      "|\"Angle, Mrs. William A (Florence \"\"Mary\"\" Agnes Hughes)\"                          |\n",
      "|Pavlovic, Mr. Stefo                                                               |\n",
      "|Perreault, Miss. Anne                                                             |\n",
      "|Vovk, Mr. Janko                                                                   |\n",
      "|Lahoud, Mr. Sarkis                                                                |\n",
      "|Hippach, Mrs. Louis Albert (Ida Sophia Fischer)                                   |\n",
      "|Kassem, Mr. Fared                                                                 |\n",
      "|Farrell, Mr. James                                                                |\n",
      "|Ridsdale, Miss. Lucy                                                              |\n",
      "|Farthing, Mr. John                                                                |\n",
      "|Salonen, Mr. Johan Werner                                                         |\n",
      "|Hocking, Mr. Richard George                                                       |\n",
      "|Quick, Miss. Phyllis May                                                          |\n",
      "|Toufik, Mr. Nakli                                                                 |\n",
      "|Elias, Mr. Joseph Jr                                                              |\n",
      "|Peter, Mrs. Catherine (Catherine Rizk)                                            |\n",
      "|Cacic, Miss. Marija                                                               |\n",
      "|Hart, Miss. Eva Miriam                                                            |\n",
      "|Butt, Major. Archibald Willingham                                                 |\n",
      "|LeRoy, Miss. Bertha                                                               |\n",
      "|Risien, Mr. Samuel Beard                                                          |\n",
      "|Frolicher, Miss. Hedwig Margaritha                                                |\n",
      "|Crosby, Miss. Harriet R                                                           |\n",
      "|Andersson, Miss. Ingeborg Constanzia                                              |\n",
      "|Andersson, Miss. Sigrid Elisabeth                                                 |\n",
      "|Beane, Mr. Edward                                                                 |\n",
      "|Douglas, Mr. Walter Donald                                                        |\n",
      "|Nicholson, Mr. Arthur Ernest                                                      |\n",
      "|Beane, Mrs. Edward (Ethel Clarke)                                                 |\n",
      "|Padro y Manent, Mr. Julian                                                        |\n",
      "|Goldsmith, Mr. Frank John                                                         |\n",
      "|Davies, Master. John Morgan Jr                                                    |\n",
      "|Thayer, Mr. John Borland Jr                                                       |\n",
      "|Sharp, Mr. Percival James R                                                       |\n",
      "|O'Brien, Mr. Timothy                                                              |\n",
      "|\"Leeni, Mr. Fahim (\"\"Philip Zenni\"\")\"                                             |\n",
      "|Ohman, Miss. Velin                                                                |\n",
      "|Wright, Mr. George                                                                |\n",
      "|\"Duff Gordon, Lady. (Lucille Christiana Sutherland) (\"\"Mrs Morgan\"\")\"             |\n",
      "|Robbins, Mr. Victor                                                               |\n",
      "|Taussig, Mrs. Emil (Tillie Mandelbaum)                                            |\n",
      "|de Messemaeker, Mrs. Guillaume Joseph (Emma)                                      |\n",
      "|Morrow, Mr. Thomas Rowan                                                          |\n",
      "|Sivic, Mr. Husein                                                                 |\n",
      "|Norman, Mr. Robert Douglas                                                        |\n",
      "|Simmons, Mr. John                                                                 |\n",
      "|Meanwell, Miss. (Marion Ogden)                                                    |\n",
      "|Davies, Mr. Alfred J                                                              |\n",
      "|Stoytcheff, Mr. Ilia                                                              |\n",
      "|Palsson, Mrs. Nils (Alma Cornelia Berglund)                                       |\n",
      "|Doharr, Mr. Tannous                                                               |\n",
      "|Jonsson, Mr. Carl                                                                 |\n",
      "|Harris, Mr. George                                                                |\n",
      "|Appleton, Mrs. Edward Dale (Charlotte Lamson)                                     |\n",
      "|\"Flynn, Mr. John Irwin (\"\"Irving\"\")\"                                              |\n",
      "|Kelly, Miss. Mary                                                                 |\n",
      "|Rush, Mr. Alfred George John                                                      |\n",
      "|Patchett, Mr. George                                                              |\n",
      "|Garside, Miss. Ethel                                                              |\n",
      "|Silvey, Mrs. William Baird (Alice Munger)                                         |\n",
      "|Caram, Mrs. Joseph (Maria Elias)                                                  |\n",
      "|Jussila, Mr. Eiriik                                                               |\n",
      "|Christy, Miss. Julie Rachel                                                       |\n",
      "|Thayer, Mrs. John Borland (Marian Longstreth Morris)                              |\n",
      "|Downton, Mr. William James                                                        |\n",
      "|Ross, Mr. John Hugo                                                               |\n",
      "|Paulner, Mr. Uscher                                                               |\n",
      "|Taussig, Miss. Ruth                                                               |\n",
      "|Jarvis, Mr. John Denzil                                                           |\n",
      "|Frolicher-Stehli, Mr. Maxmillian                                                  |\n",
      "|Gilinski, Mr. Eliezer                                                             |\n",
      "|Murdlin, Mr. Joseph                                                               |\n",
      "|Rintamaki, Mr. Matti                                                              |\n",
      "|Stephenson, Mrs. Walter Bertram (Martha Eustis)                                   |\n",
      "|Elsbury, Mr. William James                                                        |\n",
      "|Bourke, Miss. Mary                                                                |\n",
      "|Chapman, Mr. John Henry                                                           |\n",
      "|Van Impe, Mr. Jean Baptiste                                                       |\n",
      "|Leitch, Miss. Jessie Wills                                                        |\n",
      "|Johnson, Mr. Alfred                                                               |\n",
      "|Boulos, Mr. Hanna                                                                 |\n",
      "|\"Duff Gordon, Sir. Cosmo Edmund (\"\"Mr Morgan\"\")\"                                  |\n",
      "|Jacobsohn, Mrs. Sidney Samuel (Amy Frances Christy)                               |\n",
      "|Slabenoff, Mr. Petco                                                              |\n",
      "|Harrington, Mr. Charles H                                                         |\n",
      "|Torber, Mr. Ernst William                                                         |\n",
      "|\"Homer, Mr. Harry (\"\"Mr E Haven\"\")\"                                               |\n",
      "|Lindell, Mr. Edvard Bengtsson                                                     |\n",
      "|Karaic, Mr. Milan                                                                 |\n",
      "|Daniel, Mr. Robert Williams                                                       |\n",
      "|Laroche, Mrs. Joseph (Juliette Marie Louise Lafargue)                             |\n",
      "|Shutes, Miss. Elizabeth W                                                         |\n",
      "|Andersson, Mrs. Anders Johan (Alfrida Konstantia Brogren)                         |\n",
      "|Jardin, Mr. Jose Neto                                                             |\n",
      "|Murphy, Miss. Margaret Jane                                                       |\n",
      "|Horgan, Mr. John                                                                  |\n",
      "|Brocklebank, Mr. William Alfred                                                   |\n",
      "|Herman, Miss. Alice                                                               |\n",
      "|Danbom, Mr. Ernst Gilbert                                                         |\n",
      "|Lobb, Mrs. William Arthur (Cordelia K Stanlick)                                   |\n",
      "|Becker, Miss. Marion Louise                                                       |\n",
      "|Gavey, Mr. Lawrence                                                               |\n",
      "|Yasbeck, Mr. Antoni                                                               |\n",
      "|Kimball, Mr. Edwin Nelson Jr                                                      |\n",
      "|Nakid, Mr. Sahid                                                                  |\n",
      "|Hansen, Mr. Henry Damsgaard                                                       |\n",
      "|\"Bowen, Mr. David John \"\"Dai\"\"\"                                                   |\n",
      "|Sutton, Mr. Frederick                                                             |\n",
      "|Kirkland, Rev. Charles Leonard                                                    |\n",
      "|Longley, Miss. Gretchen Fiske                                                     |\n",
      "|Bostandyeff, Mr. Guentcho                                                         |\n",
      "|O'Connell, Mr. Patrick D                                                          |\n",
      "|Barkworth, Mr. Algernon Henry Wilson                                              |\n",
      "|Lundahl, Mr. Johan Svensson                                                       |\n",
      "|Stahelin-Maeglin, Dr. Max                                                         |\n",
      "|Parr, Mr. William Henry Marsh                                                     |\n",
      "|Skoog, Miss. Mabel                                                                |\n",
      "|Davis, Miss. Mary                                                                 |\n",
      "|Leinonen, Mr. Antti Gustaf                                                        |\n",
      "|Collyer, Mr. Harvey                                                               |\n",
      "|Panula, Mrs. Juha (Maria Emilia Ojala)                                            |\n",
      "|Thorneycroft, Mr. Percival                                                        |\n",
      "|Jensen, Mr. Hans Peder                                                            |\n",
      "|Sagesser, Mlle. Emma                                                              |\n",
      "|Skoog, Miss. Margit Elizabeth                                                     |\n",
      "|Foo, Mr. Choong                                                                   |\n",
      "|Baclini, Miss. Eugenie                                                            |\n",
      "|Harper, Mr. Henry Sleeper                                                         |\n",
      "|Cor, Mr. Liudevit                                                                 |\n",
      "|Simonius-Blumer, Col. Oberst Alfons                                               |\n",
      "|Willey, Mr. Edward                                                                |\n",
      "|Stanley, Miss. Amy Zillah Elsie                                                   |\n",
      "|Mitkoff, Mr. Mito                                                                 |\n",
      "|Doling, Miss. Elsie                                                               |\n",
      "|Kalvik, Mr. Johannes Halvorsen                                                    |\n",
      "|\"O'Leary, Miss. Hanora \"\"Norah\"\"\"                                                 |\n",
      "|\"Hegarty, Miss. Hanora \"\"Nora\"\"\"                                                  |\n",
      "|Hickman, Mr. Leonard Mark                                                         |\n",
      "|Radeff, Mr. Alexander                                                             |\n",
      "|Bourke, Mrs. John (Catherine)                                                     |\n",
      "|Eitemiller, Mr. George Floyd                                                      |\n",
      "|Newell, Mr. Arthur Webster                                                        |\n",
      "|Frauenthal, Dr. Henry William                                                     |\n",
      "|Badt, Mr. Mohamed                                                                 |\n",
      "|Colley, Mr. Edward Pomeroy                                                        |\n",
      "|Coleff, Mr. Peju                                                                  |\n",
      "|Lindqvist, Mr. Eino William                                                       |\n",
      "|Hickman, Mr. Lewis                                                                |\n",
      "|Butler, Mr. Reginald Fenton                                                       |\n",
      "|Rommetvedt, Mr. Knud Paust                                                        |\n",
      "|Cook, Mr. Jacob                                                                   |\n",
      "|Taylor, Mrs. Elmer Zebley (Juliet Cummins Wright)                                 |\n",
      "|Brown, Mrs. Thomas William Solomon (Elizabeth Catherine Ford)                     |\n",
      "|Davidson, Mr. Thornton                                                            |\n",
      "|Mitchell, Mr. Henry Michael                                                       |\n",
      "|Wilhelms, Mr. Charles                                                             |\n",
      "|Watson, Mr. Ennis Hastings                                                        |\n",
      "|Edvardsson, Mr. Gustaf Hjalmar                                                    |\n",
      "|Sawyer, Mr. Frederick Charles                                                     |\n",
      "|Turja, Miss. Anna Sofia                                                           |\n",
      "|Goodwin, Mrs. Frederick (Augusta Tyler)                                           |\n",
      "|Cardeza, Mr. Thomas Drake Martinez                                                |\n",
      "|Peters, Miss. Katie                                                               |\n",
      "|Hassab, Mr. Hammad                                                                |\n",
      "|Olsvigen, Mr. Thor Anderson                                                       |\n",
      "|Goodwin, Mr. Charles Edward                                                       |\n",
      "|Brown, Mr. Thomas William Solomon                                                 |\n",
      "|Laroche, Mr. Joseph Philippe Lemercier                                            |\n",
      "|Panula, Mr. Jaako Arnold                                                          |\n",
      "|Dakic, Mr. Branko                                                                 |\n",
      "|Fischer, Mr. Eberhard Thelander                                                   |\n",
      "|Madill, Miss. Georgette Alexandra                                                 |\n",
      "|Dick, Mr. Albert Adrian                                                           |\n",
      "|Karun, Miss. Manca                                                                |\n",
      "|Lam, Mr. Ali                                                                      |\n",
      "|Saad, Mr. Khalil                                                                  |\n",
      "|Weir, Col. John                                                                   |\n",
      "|Chapman, Mr. Charles Henry                                                        |\n",
      "|Kelly, Mr. James                                                                  |\n",
      "|\"Mullens, Miss. Katherine \"\"Katie\"\"\"                                              |\n",
      "|Thayer, Mr. John Borland                                                          |\n",
      "|Humblen, Mr. Adolf Mathias Nicolai Olsen                                          |\n",
      "|Astor, Mrs. John Jacob (Madeleine Talmadge Force)                                 |\n",
      "|Silverthorne, Mr. Spencer Victor                                                  |\n",
      "|Barbara, Miss. Saiide                                                             |\n",
      "|Gallagher, Mr. Martin                                                             |\n",
      "|Hansen, Mr. Henrik Juul                                                           |\n",
      "|\"Morley, Mr. Henry Samuel (\"\"Mr Henry Marshall\"\")\"                                |\n",
      "|\"Kelly, Mrs. Florence \"\"Fannie\"\"\"                                                 |\n",
      "|Calderhead, Mr. Edward Pennington                                                 |\n",
      "|Cleaver, Miss. Alice                                                              |\n",
      "|\"Moubarek, Master. Halim Gonios (\"\"William George\"\")\"                             |\n",
      "|\"Mayne, Mlle. Berthe Antonine (\"\"Mrs de Villiers\"\")\"                              |\n",
      "|Klaber, Mr. Herman                                                                |\n",
      "|Taylor, Mr. Elmer Zebley                                                          |\n",
      "|Larsson, Mr. August Viktor                                                        |\n",
      "|Greenberg, Mr. Samuel                                                             |\n",
      "|Soholt, Mr. Peter Andreas Lauritz Andersen                                        |\n",
      "|Endres, Miss. Caroline Louise                                                     |\n",
      "|\"Troutt, Miss. Edwina Celia \"\"Winnie\"\"\"                                           |\n",
      "|McEvoy, Mr. Michael                                                               |\n",
      "|Johnson, Mr. Malkolm Joackim                                                      |\n",
      "|\"Harper, Miss. Annie Jessie \"\"Nina\"\"\"                                             |\n",
      "|Jensen, Mr. Svend Lauritz                                                         |\n",
      "|Gillespie, Mr. William Henry                                                      |\n",
      "|Hodges, Mr. Henry Price                                                           |\n",
      "|Chambers, Mr. Norman Campbell                                                     |\n",
      "|Oreskovic, Mr. Luka                                                               |\n",
      "|Renouf, Mrs. Peter Henry (Lillian Jefferys)                                       |\n",
      "|Mannion, Miss. Margareth                                                          |\n",
      "|Bryhl, Mr. Kurt Arnold Gottfrid                                                   |\n",
      "|Ilmakangas, Miss. Pieta Sofia                                                     |\n",
      "|Allen, Miss. Elisabeth Walton                                                     |\n",
      "|Hassan, Mr. Houssein G N                                                          |\n",
      "|Knight, Mr. Robert J                                                              |\n",
      "|Berriman, Mr. William John                                                        |\n",
      "|Troupiansky, Mr. Moses Aaron                                                      |\n",
      "|Williams, Mr. Leslie                                                              |\n",
      "|Ford, Mrs. Edward (Margaret Ann Watson)                                           |\n",
      "|Lesurer, Mr. Gustave J                                                            |\n",
      "|Ivanoff, Mr. Kanio                                                                |\n",
      "|Nankoff, Mr. Minko                                                                |\n",
      "|Hawksford, Mr. Walter James                                                       |\n",
      "|Cavendish, Mr. Tyrell William                                                     |\n",
      "|\"Ryerson, Miss. Susan Parker \"\"Suzette\"\"\"                                         |\n",
      "|McNamee, Mr. Neal                                                                 |\n",
      "|Stranden, Mr. Juho                                                                |\n",
      "|Crosby, Capt. Edward Gifford                                                      |\n",
      "|Abbott, Mr. Rossmore Edward                                                       |\n",
      "|Sinkkonen, Miss. Anna                                                             |\n",
      "|Marvin, Mr. Daniel Warner                                                         |\n",
      "|Connaghton, Mr. Michael                                                           |\n",
      "|Wells, Miss. Joan                                                                 |\n",
      "|Moor, Master. Meier                                                               |\n",
      "|Vande Velde, Mr. Johannes Joseph                                                  |\n",
      "|Jonkoff, Mr. Lalio                                                                |\n",
      "|Herman, Mrs. Samuel (Jane Laver)                                                  |\n",
      "|Hamalainen, Master. Viljo                                                         |\n",
      "|Carlsson, Mr. August Sigfrid                                                      |\n",
      "|Bailey, Mr. Percy Andrew                                                          |\n",
      "|Theobald, Mr. Thomas Leonard                                                      |\n",
      "|Rothes, the Countess. of (Lucy Noel Martha Dyer-Edwards)                          |\n",
      "|Garfirth, Mr. John                                                                |\n",
      "|Nirva, Mr. Iisakki Antino Aijo                                                    |\n",
      "|Barah, Mr. Hanna Assi                                                             |\n",
      "|Carter, Mrs. William Ernest (Lucile Polk)                                         |\n",
      "|Eklund, Mr. Hans Linus                                                            |\n",
      "|Hogeboom, Mrs. John C (Anna Andrews)                                              |\n",
      "|Brewe, Dr. Arthur Jackson                                                         |\n",
      "|Mangan, Miss. Mary                                                                |\n",
      "|Moran, Mr. Daniel J                                                               |\n",
      "|Gronnestad, Mr. Daniel Danielsen                                                  |\n",
      "|Lievens, Mr. Rene Aime                                                            |\n",
      "|Jensen, Mr. Niels Peder                                                           |\n",
      "|Mack, Mrs. (Mary)                                                                 |\n",
      "|Elias, Mr. Dibo                                                                   |\n",
      "|Hocking, Mrs. Elizabeth (Eliza Needs)                                             |\n",
      "|Myhrman, Mr. Pehr Fabian Oliver Malkolm                                           |\n",
      "|Tobin, Mr. Roger                                                                  |\n",
      "|Emanuel, Miss. Virginia Ethel                                                     |\n",
      "|Kilgannon, Mr. Thomas J                                                           |\n",
      "|Robert, Mrs. Edward Scott (Elisabeth Walton McMillan)                             |\n",
      "|Ayoub, Miss. Banoura                                                              |\n",
      "|Dick, Mrs. Albert Adrian (Vera Gillespie)                                         |\n",
      "|Long, Mr. Milton Clyde                                                            |\n",
      "|Johnston, Mr. Andrew G                                                            |\n",
      "|Ali, Mr. William                                                                  |\n",
      "|Harmer, Mr. Abraham (David Lishin)                                                |\n",
      "|Sjoblom, Miss. Anna Sofia                                                         |\n",
      "|Rice, Master. George Hugh                                                         |\n",
      "|Dean, Master. Bertram Vere                                                        |\n",
      "|Guggenheim, Mr. Benjamin                                                          |\n",
      "|\"Keane, Mr. Andrew \"\"Andy\"\"\"                                                      |\n",
      "|Gaskell, Mr. Alfred                                                               |\n",
      "|Sage, Miss. Stella Anna                                                           |\n",
      "|Hoyt, Mr. William Fisher                                                          |\n",
      "|Dantcheff, Mr. Ristiu                                                             |\n",
      "|Otter, Mr. Richard                                                                |\n",
      "|Leader, Dr. Alice (Farnham)                                                       |\n",
      "|Osman, Mrs. Mara                                                                  |\n",
      "|Ibrahim Shawah, Mr. Yousseff                                                      |\n",
      "|Van Impe, Mrs. Jean Baptiste (Rosalie Paula Govaert)                              |\n",
      "|Ponesell, Mr. Martin                                                              |\n",
      "|Collyer, Mrs. Harvey (Charlotte Annie Tate)                                       |\n",
      "|Carter, Master. William Thornton II                                               |\n",
      "|Thomas, Master. Assad Alexander                                                   |\n",
      "|Hedman, Mr. Oskar Arvid                                                           |\n",
      "|Johansson, Mr. Karl Johan                                                         |\n",
      "|Andrews, Mr. Thomas Jr                                                            |\n",
      "|Pettersson, Miss. Ellen Natalia                                                   |\n",
      "|Meyer, Mr. August                                                                 |\n",
      "|Chambers, Mrs. Norman Campbell (Bertha Griggs)                                    |\n",
      "|Alexander, Mr. William                                                            |\n",
      "|Lester, Mr. James                                                                 |\n",
      "|Slemen, Mr. Richard James                                                         |\n",
      "|Andersson, Miss. Ebba Iris Alfrida                                                |\n",
      "|Tomlin, Mr. Ernest Portage                                                        |\n",
      "|Fry, Mr. Richard                                                                  |\n",
      "|Heininen, Miss. Wendla Maria                                                      |\n",
      "|Mallet, Mr. Albert                                                                |\n",
      "|Holm, Mr. John Fredrik Alexander                                                  |\n",
      "|Skoog, Master. Karl Thorsten                                                      |\n",
      "|Hays, Mrs. Charles Melville (Clara Jennings Gregg)                                |\n",
      "|Lulic, Mr. Nikola                                                                 |\n",
      "|Reuchlin, Jonkheer. John George                                                   |\n",
      "|Moor, Mrs. (Beila)                                                                |\n",
      "|Panula, Master. Urho Abraham                                                      |\n",
      "|Flynn, Mr. John                                                                   |\n",
      "|Lam, Mr. Len                                                                      |\n",
      "|Mallet, Master. Andre                                                             |\n",
      "|McCormack, Mr. Thomas Joseph                                                      |\n",
      "|Stone, Mrs. George Nelson (Martha Evelyn)                                         |\n",
      "|Yasbeck, Mrs. Antoni (Selini Alexander)                                           |\n",
      "|Richards, Master. George Sibley                                                   |\n",
      "|Saad, Mr. Amin                                                                    |\n",
      "|Augustsson, Mr. Albert                                                            |\n",
      "|Allum, Mr. Owen George                                                            |\n",
      "|Compton, Miss. Sara Rebecca                                                       |\n",
      "|Pasic, Mr. Jakob                                                                  |\n",
      "|Sirota, Mr. Maurice                                                               |\n",
      "|Chip, Mr. Chang                                                                   |\n",
      "|Marechal, Mr. Pierre                                                              |\n",
      "|Alhomaki, Mr. Ilmari Rudolf                                                       |\n",
      "|Mudd, Mr. Thomas Charles                                                          |\n",
      "|Serepeca, Miss. Augusta                                                           |\n",
      "|Lemberopolous, Mr. Peter L                                                        |\n",
      "|Culumovic, Mr. Jeso                                                               |\n",
      "|Abbing, Mr. Anthony                                                               |\n",
      "|Sage, Mr. Douglas Bullen                                                          |\n",
      "|Markoff, Mr. Marin                                                                |\n",
      "|Harper, Rev. John                                                                 |\n",
      "|Goldenberg, Mrs. Samuel L (Edwiga Grabowska)                                      |\n",
      "|Andersson, Master. Sigvard Harald Elias                                           |\n",
      "|Svensson, Mr. Johan                                                               |\n",
      "|Boulos, Miss. Nourelain                                                           |\n",
      "|Lines, Miss. Mary Conover                                                         |\n",
      "|Carter, Mrs. Ernest Courtenay (Lilian Hughes)                                     |\n",
      "|Aks, Mrs. Sam (Leah Rosen)                                                        |\n",
      "|Wick, Mrs. George Dennick (Mary Hitchcock)                                        |\n",
      "|Daly, Mr. Peter Denis                                                             |\n",
      "|Baclini, Mrs. Solomon (Latifa Qurban)                                             |\n",
      "|Razi, Mr. Raihed                                                                  |\n",
      "|Hansen, Mr. Claus Peter                                                           |\n",
      "|Giles, Mr. Frederick Edward                                                       |\n",
      "|Swift, Mrs. Frederick Joel (Margaret Welles Barron)                               |\n",
      "|\"Sage, Miss. Dorothy Edith \"\"Dolly\"\"\"                                             |\n",
      "|Gill, Mr. John William                                                            |\n",
      "|Bystrom, Mrs. (Karolina)                                                          |\n",
      "|Duran y More, Miss. Asuncion                                                      |\n",
      "|Roebling, Mr. Washington Augustus II                                              |\n",
      "|van Melkebeke, Mr. Philemon                                                       |\n",
      "|Johnson, Master. Harold Theodor                                                   |\n",
      "|Balkic, Mr. Cerin                                                                 |\n",
      "|Beckwith, Mrs. Richard Leonard (Sallie Monypeny)                                  |\n",
      "|Carlsson, Mr. Frans Olof                                                          |\n",
      "|Vander Cruyssen, Mr. Victor                                                       |\n",
      "|Abelson, Mrs. Samuel (Hannah Wizosky)                                             |\n",
      "|\"Najib, Miss. Adele Kiamie \"\"Jane\"\"\"                                              |\n",
      "|Gustafsson, Mr. Alfred Ossian                                                     |\n",
      "|Petroff, Mr. Nedelio                                                              |\n",
      "|Laleff, Mr. Kristo                                                                |\n",
      "|Potter, Mrs. Thomas Jr (Lily Alexenia Wilson)                                     |\n",
      "|Shelley, Mrs. William (Imanita Parrish Hall)                                      |\n",
      "|Markun, Mr. Johann                                                                |\n",
      "|Dahlberg, Miss. Gerda Ulrika                                                      |\n",
      "|Banfield, Mr. Frederick James                                                     |\n",
      "|Sutehall, Mr. Henry Jr                                                            |\n",
      "|Rice, Mrs. William (Margaret Norton)                                              |\n",
      "|Montvila, Rev. Juozas                                                             |\n",
      "|Graham, Miss. Margaret Edith                                                      |\n",
      "|\"Johnston, Miss. Catherine Helen \"\"Carrie\"\"\"                                      |\n",
      "|Behr, Mr. Karl Howell                                                             |\n",
      "|Dooley, Mr. Patrick                                                               |\n",
      "+----------------------------------------------------------------------------------+\n",
      "only showing top 891 rows\n",
      "\n"
     ]
    }
   ],
   "source": [
    "name = spark.sql(\"\"\"SELECT Name\n",
    "                        FROM Data \n",
    "                        \n",
    "          \"\"\").show(891,False)\n",
    "name"
   ]
  },
  {
   "cell_type": "markdown",
   "metadata": {
    "id": "3F0F9cTZ2Cuz"
   },
   "source": [
    "**Run this code:**"
   ]
  },
  {
   "cell_type": "code",
   "execution_count": 29,
   "metadata": {
    "id": "0kx6OcB-2BBT"
   },
   "outputs": [],
   "source": [
    "df = df.withColumn('Title',regexp_extract(col(\"Name\"),\"([A-Za-z]+)\\.\",1))\n",
    "df.createOrReplaceTempView('Data')\n"
   ]
  },
  {
   "cell_type": "code",
   "execution_count": null,
   "metadata": {},
   "outputs": [],
   "source": []
  },
  {
   "cell_type": "markdown",
   "metadata": {
    "id": "xbZeUWS12r59"
   },
   "source": [
    "**Display the title and count \"Title\" column:**"
   ]
  },
  {
   "cell_type": "code",
   "execution_count": 30,
   "metadata": {
    "id": "hGkFMtlp1FAI"
   },
   "outputs": [
    {
     "name": "stdout",
     "output_type": "stream",
     "text": [
      "+------+\n",
      "| Title|\n",
      "+------+\n",
      "|    Mr|\n",
      "|   Mrs|\n",
      "|  Miss|\n",
      "|   Mrs|\n",
      "|    Mr|\n",
      "|    Mr|\n",
      "|    Mr|\n",
      "|Master|\n",
      "|   Mrs|\n",
      "|   Mrs|\n",
      "|  Miss|\n",
      "|  Miss|\n",
      "|    Mr|\n",
      "|    Mr|\n",
      "|  Miss|\n",
      "|   Mrs|\n",
      "|Master|\n",
      "|    Mr|\n",
      "|   Mrs|\n",
      "|   Mrs|\n",
      "+------+\n",
      "only showing top 20 rows\n",
      "\n"
     ]
    }
   ],
   "source": [
    "df.select('Title').show()"
   ]
  },
  {
   "cell_type": "code",
   "execution_count": 31,
   "metadata": {},
   "outputs": [
    {
     "data": {
      "text/plain": [
       "1329"
      ]
     },
     "execution_count": 31,
     "metadata": {},
     "output_type": "execute_result"
    }
   ],
   "source": [
    "df.select('Title').count()"
   ]
  },
  {
   "cell_type": "markdown",
   "metadata": {
    "id": "nLBQDKYu4JOa"
   },
   "source": [
    "**We can see that Dr, Rev, Major, Col, Mlle, Capt, Don, Jonkheer, Countess, Ms, Sir, Lady, and Mme are really rare titles, so create Dictionary and set the value to \"rare\".**"
   ]
  },
  {
   "cell_type": "code",
   "execution_count": 32,
   "metadata": {
    "id": "rjnx5l5r2Qaf"
   },
   "outputs": [],
   "source": [
    "tit = df.select('Title')"
   ]
  },
  {
   "cell_type": "code",
   "execution_count": 33,
   "metadata": {},
   "outputs": [],
   "source": [
    "tit = spark.sql('select Title,count(Title) as Count from Data group by Title').collect()"
   ]
  },
  {
   "cell_type": "code",
   "execution_count": 34,
   "metadata": {},
   "outputs": [
    {
     "name": "stdout",
     "output_type": "stream",
     "text": [
      "[Row(Title='Don', Count=1), Row(Title='Miss', Count=257), Row(Title='Countess', Count=2), Row(Title='Col', Count=4), Row(Title='Rev', Count=9), Row(Title='Lady', Count=2), Row(Title='Master', Count=56), Row(Title='Mme', Count=1), Row(Title='Capt', Count=2), Row(Title='Mr', Count=786), Row(Title='Dr', Count=11), Row(Title='Mrs', Count=186), Row(Title='Sir', Count=2), Row(Title='Jonkheer', Count=2), Row(Title='Mlle', Count=4), Row(Title='Major', Count=3), Row(Title='Ms', Count=1)]\n"
     ]
    }
   ],
   "source": [
    "print(tit)"
   ]
  },
  {
   "cell_type": "code",
   "execution_count": 35,
   "metadata": {},
   "outputs": [],
   "source": [
    "rare_tit = set(['Dr','Rev','Major','Col','Mlle','Capt','Don','Jonkheer','Countess','Ms','Sir','Lady','Mme'])"
   ]
  },
  {
   "cell_type": "code",
   "execution_count": 36,
   "metadata": {},
   "outputs": [
    {
     "data": {
      "text/plain": [
       "{'Don': 'rare',\n",
       " 'Miss': 'Miss',\n",
       " 'Countess': 'rare',\n",
       " 'Col': 'rare',\n",
       " 'Rev': 'rare',\n",
       " 'Lady': 'rare',\n",
       " 'Master': 'Master',\n",
       " 'Mme': 'rare',\n",
       " 'Capt': 'rare',\n",
       " 'Mr': 'Mr',\n",
       " 'Dr': 'rare',\n",
       " 'Mrs': 'Mrs',\n",
       " 'Sir': 'rare',\n",
       " 'Jonkheer': 'rare',\n",
       " 'Mlle': 'rare',\n",
       " 'Major': 'rare',\n",
       " 'Ms': 'rare'}"
      ]
     },
     "execution_count": 36,
     "metadata": {},
     "output_type": "execute_result"
    }
   ],
   "source": [
    "new_title = {t[0]:t[0]if t[0] not in rare_tit else 'rare' for t in tit}\n",
    "new_title"
   ]
  },
  {
   "cell_type": "markdown",
   "metadata": {
    "id": "9wrE95Cv7Oqh"
   },
   "source": [
    "**Run the function:**"
   ]
  },
  {
   "cell_type": "code",
   "execution_count": 37,
   "metadata": {
    "id": "HdDbWuDl7Pf4"
   },
   "outputs": [],
   "source": [
    "def impute_title(title):\n",
    "    return new_title[title]"
   ]
  },
  {
   "cell_type": "markdown",
   "metadata": {
    "id": "f5EQVIhK7a9R"
   },
   "source": [
    "**Apply the function on \"Title\" column using UDF:**"
   ]
  },
  {
   "cell_type": "code",
   "execution_count": 38,
   "metadata": {
    "id": "rBAiIOn77XFa"
   },
   "outputs": [],
   "source": [
    "from pyspark.sql.functions import * \n",
    "\n",
    "imputeudf = udf(lambda z: impute_title(z),StringType())"
   ]
  },
  {
   "cell_type": "markdown",
   "metadata": {
    "id": "sn8ewllf7kiV"
   },
   "source": [
    "**Display \"Title\" from table and group by \"Title\" column:**"
   ]
  },
  {
   "cell_type": "code",
   "execution_count": 39,
   "metadata": {
    "id": "J9sjQb084GU6"
   },
   "outputs": [],
   "source": [
    "df = df.withColumn('Title',imputeudf('Title'))"
   ]
  },
  {
   "cell_type": "code",
   "execution_count": 40,
   "metadata": {},
   "outputs": [
    {
     "name": "stdout",
     "output_type": "stream",
     "text": [
      "+------+-----+\n",
      "| Title|count|\n",
      "+------+-----+\n",
      "|  rare|   44|\n",
      "|  Miss|  257|\n",
      "|Master|   56|\n",
      "|    Mr|  786|\n",
      "|   Mrs|  186|\n",
      "+------+-----+\n",
      "\n"
     ]
    }
   ],
   "source": [
    "df.select('Title').groupBy('Title').count().show()\n"
   ]
  },
  {
   "cell_type": "code",
   "execution_count": null,
   "metadata": {},
   "outputs": [],
   "source": []
  },
  {
   "cell_type": "markdown",
   "metadata": {
    "id": "-H45QNLj9vJp"
   },
   "source": [
    "## **Preprocessing Age**"
   ]
  },
  {
   "cell_type": "markdown",
   "metadata": {
    "id": "XwRAhumK-u__"
   },
   "source": [
    "**Based on the age mean, you will fill in the missing age values:**"
   ]
  },
  {
   "cell_type": "code",
   "execution_count": 41,
   "metadata": {
    "id": "eXYSVzvl4z63"
   },
   "outputs": [],
   "source": [
    "mean_age = spark.sql('select avg(Age) from Data ').collect()"
   ]
  },
  {
   "cell_type": "code",
   "execution_count": 42,
   "metadata": {},
   "outputs": [
    {
     "data": {
      "text/plain": [
       "30.079501879699244"
      ]
     },
     "execution_count": 42,
     "metadata": {},
     "output_type": "execute_result"
    }
   ],
   "source": [
    "mean_age[0][0]"
   ]
  },
  {
   "cell_type": "markdown",
   "metadata": {
    "id": "JLPivde8_GI-"
   },
   "source": [
    "**Fill missing age with age mean:**"
   ]
  },
  {
   "cell_type": "code",
   "execution_count": 43,
   "metadata": {
    "id": "lBgW8aFD90PA"
   },
   "outputs": [],
   "source": [
    "df = df.na.fill({'Age':mean_age[0][0]})"
   ]
  },
  {
   "cell_type": "markdown",
   "metadata": {
    "id": "jGsnUz-m_P95"
   },
   "source": [
    "## **Preprocessing Embarked**"
   ]
  },
  {
   "cell_type": "markdown",
   "metadata": {
    "id": "iHbbamcXMSYP"
   },
   "source": [
    "**Select Embarked, count them, order by count Desc, and save in grouped_Embarked variable:**\n",
    "\n",
    "\n"
   ]
  },
  {
   "cell_type": "code",
   "execution_count": 44,
   "metadata": {
    "id": "v-lRu5vc_FW7"
   },
   "outputs": [],
   "source": [
    "grouped_Embarked = df.select('Embarked').groupBy('Embarked').count().orderBy(desc('count'))"
   ]
  },
  {
   "cell_type": "code",
   "execution_count": null,
   "metadata": {},
   "outputs": [],
   "source": []
  },
  {
   "cell_type": "markdown",
   "metadata": {
    "id": "E1qf5u2IOQrx"
   },
   "source": [
    "**Show groupped_Embarked:**"
   ]
  },
  {
   "cell_type": "code",
   "execution_count": 45,
   "metadata": {
    "id": "jSFNDTNg_erb"
   },
   "outputs": [
    {
     "name": "stdout",
     "output_type": "stream",
     "text": [
      "+--------+-----+\n",
      "|Embarked|count|\n",
      "+--------+-----+\n",
      "|       S|  962|\n",
      "|       C|  253|\n",
      "|       Q|  111|\n",
      "|    null|    3|\n",
      "+--------+-----+\n",
      "\n"
     ]
    }
   ],
   "source": [
    "grouped_Embarked.show()"
   ]
  },
  {
   "cell_type": "markdown",
   "metadata": {
    "id": "mzQWYgKBMrbp"
   },
   "source": [
    "**Get the groupped_Embarked:** "
   ]
  },
  {
   "cell_type": "code",
   "execution_count": 46,
   "metadata": {
    "id": "uu46QWrn_gCX"
   },
   "outputs": [],
   "source": [
    "grouped_Embarked.collect()\n",
    "S='S'"
   ]
  },
  {
   "cell_type": "markdown",
   "metadata": {
    "id": "L8vhoEs8N2w_"
   },
   "source": [
    "**Fill missing values with grouped_Embarked:**"
   ]
  },
  {
   "cell_type": "code",
   "execution_count": 47,
   "metadata": {
    "id": "LdzQCRud_mAa"
   },
   "outputs": [
    {
     "name": "stdout",
     "output_type": "stream",
     "text": [
      "+-----------+--------+------+--------------------+------+------------------+-----+-----+----------------+-------+-----+--------+------+\n",
      "|PassengerId|Survived|Pclass|                Name|   Sex|               Age|SibSp|Parch|          Ticket|   Fare|Cabin|Embarked| Title|\n",
      "+-----------+--------+------+--------------------+------+------------------+-----+-----+----------------+-------+-----+--------+------+\n",
      "|          1|       0|     3|Braund, Mr. Owen ...|  male|              22.0|    1|    0|       A/5 21171|   7.25| null|       S|    Mr|\n",
      "|          2|       1|     1|Cumings, Mrs. Joh...|female|              38.0|    1|    0|        PC 17599|71.2833|  C85|       C|   Mrs|\n",
      "|          3|       1|     3|Heikkinen, Miss. ...|female|              26.0|    0|    0|STON/O2. 3101282|  7.925| null|       S|  Miss|\n",
      "|          4|       1|     1|Futrelle, Mrs. Ja...|female|              35.0|    1|    0|          113803|   53.1| C123|       S|   Mrs|\n",
      "|          5|       0|     3|Allen, Mr. Willia...|  male|              35.0|    0|    0|          373450|   8.05| null|       S|    Mr|\n",
      "|          6|       0|     3|    Moran, Mr. James|  male|30.079501879699244|    0|    0|          330877| 8.4583| null|       Q|    Mr|\n",
      "|          7|       0|     1|McCarthy, Mr. Tim...|  male|              54.0|    0|    0|           17463|51.8625|  E46|       S|    Mr|\n",
      "|          8|       0|     3|Palsson, Master. ...|  male|               2.0|    3|    1|          349909| 21.075| null|       S|Master|\n",
      "|          9|       1|     3|Johnson, Mrs. Osc...|female|              27.0|    0|    2|          347742|11.1333| null|       S|   Mrs|\n",
      "|         10|       1|     2|Nasser, Mrs. Nich...|female|              14.0|    1|    0|          237736|30.0708| null|       C|   Mrs|\n",
      "|         11|       1|     3|Sandstrom, Miss. ...|female|               4.0|    1|    1|         PP 9549|   16.7|   G6|       S|  Miss|\n",
      "|         12|       1|     1|Bonnell, Miss. El...|female|              58.0|    0|    0|          113783|  26.55| C103|       S|  Miss|\n",
      "|         13|       0|     3|Saundercock, Mr. ...|  male|              20.0|    0|    0|       A/5. 2151|   8.05| null|       S|    Mr|\n",
      "|         14|       0|     3|Andersson, Mr. An...|  male|              39.0|    1|    5|          347082| 31.275| null|       S|    Mr|\n",
      "|         15|       0|     3|Vestrom, Miss. Hu...|female|              14.0|    0|    0|          350406| 7.8542| null|       S|  Miss|\n",
      "|         16|       1|     2|Hewlett, Mrs. (Ma...|female|              55.0|    0|    0|          248706|   16.0| null|       S|   Mrs|\n",
      "|         17|       0|     3|Rice, Master. Eugene|  male|               2.0|    4|    1|          382652| 29.125| null|       Q|Master|\n",
      "|         18|       1|     2|Williams, Mr. Cha...|  male|30.079501879699244|    0|    0|          244373|   13.0| null|       S|    Mr|\n",
      "|         19|       0|     3|Vander Planke, Mr...|female|              31.0|    1|    0|          345763|   18.0| null|       S|   Mrs|\n",
      "|         20|       1|     3|Masselmani, Mrs. ...|female|30.079501879699244|    0|    0|            2649|  7.225| null|       C|   Mrs|\n",
      "+-----------+--------+------+--------------------+------+------------------+-----+-----+----------------+-------+-----+--------+------+\n",
      "only showing top 20 rows\n",
      "\n"
     ]
    }
   ],
   "source": [
    "df =  df.na.fill({'Embarked':S})\n",
    "df.show()"
   ]
  },
  {
   "cell_type": "code",
   "execution_count": 48,
   "metadata": {},
   "outputs": [
    {
     "name": "stdout",
     "output_type": "stream",
     "text": [
      "+--------+-----+\n",
      "|Embarked|count|\n",
      "+--------+-----+\n",
      "|       S|  965|\n",
      "|       C|  253|\n",
      "|       Q|  111|\n",
      "+--------+-----+\n",
      "\n"
     ]
    }
   ],
   "source": [
    "show_em = df.select('Embarked').groupBy('Embarked').count().orderBy(desc('count'))\n",
    "show_em.show()"
   ]
  },
  {
   "cell_type": "markdown",
   "metadata": {
    "id": "TEcdV5Vb_qR_"
   },
   "source": [
    "## **Preprocessing Cabin**"
   ]
  },
  {
   "cell_type": "markdown",
   "metadata": {
    "id": "_BQzPs7tqhpA"
   },
   "source": [
    "**Replace \"cabin\" column with first char from the string:**\n",
    "\n"
   ]
  },
  {
   "cell_type": "code",
   "execution_count": 49,
   "metadata": {
    "id": "4b6L5pK0_nQz"
   },
   "outputs": [],
   "source": [
    "df = df.withColumn('Cabin',substring('Cabin',0,1))"
   ]
  },
  {
   "cell_type": "markdown",
   "metadata": {
    "id": "6H8XshnYj4k2"
   },
   "source": [
    "**Show the result:**"
   ]
  },
  {
   "cell_type": "code",
   "execution_count": 50,
   "metadata": {
    "id": "gJUQwnG1Oj2U"
   },
   "outputs": [
    {
     "name": "stdout",
     "output_type": "stream",
     "text": [
      "+-----------+--------+------+--------------------+------+------------------+-----+-----+----------------+-------+-----+--------+------+\n",
      "|PassengerId|Survived|Pclass|                Name|   Sex|               Age|SibSp|Parch|          Ticket|   Fare|Cabin|Embarked| Title|\n",
      "+-----------+--------+------+--------------------+------+------------------+-----+-----+----------------+-------+-----+--------+------+\n",
      "|          1|       0|     3|Braund, Mr. Owen ...|  male|              22.0|    1|    0|       A/5 21171|   7.25| null|       S|    Mr|\n",
      "|          2|       1|     1|Cumings, Mrs. Joh...|female|              38.0|    1|    0|        PC 17599|71.2833|    C|       C|   Mrs|\n",
      "|          3|       1|     3|Heikkinen, Miss. ...|female|              26.0|    0|    0|STON/O2. 3101282|  7.925| null|       S|  Miss|\n",
      "|          4|       1|     1|Futrelle, Mrs. Ja...|female|              35.0|    1|    0|          113803|   53.1|    C|       S|   Mrs|\n",
      "|          5|       0|     3|Allen, Mr. Willia...|  male|              35.0|    0|    0|          373450|   8.05| null|       S|    Mr|\n",
      "|          6|       0|     3|    Moran, Mr. James|  male|30.079501879699244|    0|    0|          330877| 8.4583| null|       Q|    Mr|\n",
      "|          7|       0|     1|McCarthy, Mr. Tim...|  male|              54.0|    0|    0|           17463|51.8625|    E|       S|    Mr|\n",
      "|          8|       0|     3|Palsson, Master. ...|  male|               2.0|    3|    1|          349909| 21.075| null|       S|Master|\n",
      "|          9|       1|     3|Johnson, Mrs. Osc...|female|              27.0|    0|    2|          347742|11.1333| null|       S|   Mrs|\n",
      "|         10|       1|     2|Nasser, Mrs. Nich...|female|              14.0|    1|    0|          237736|30.0708| null|       C|   Mrs|\n",
      "|         11|       1|     3|Sandstrom, Miss. ...|female|               4.0|    1|    1|         PP 9549|   16.7|    G|       S|  Miss|\n",
      "|         12|       1|     1|Bonnell, Miss. El...|female|              58.0|    0|    0|          113783|  26.55|    C|       S|  Miss|\n",
      "|         13|       0|     3|Saundercock, Mr. ...|  male|              20.0|    0|    0|       A/5. 2151|   8.05| null|       S|    Mr|\n",
      "|         14|       0|     3|Andersson, Mr. An...|  male|              39.0|    1|    5|          347082| 31.275| null|       S|    Mr|\n",
      "|         15|       0|     3|Vestrom, Miss. Hu...|female|              14.0|    0|    0|          350406| 7.8542| null|       S|  Miss|\n",
      "|         16|       1|     2|Hewlett, Mrs. (Ma...|female|              55.0|    0|    0|          248706|   16.0| null|       S|   Mrs|\n",
      "|         17|       0|     3|Rice, Master. Eugene|  male|               2.0|    4|    1|          382652| 29.125| null|       Q|Master|\n",
      "|         18|       1|     2|Williams, Mr. Cha...|  male|30.079501879699244|    0|    0|          244373|   13.0| null|       S|    Mr|\n",
      "|         19|       0|     3|Vander Planke, Mr...|female|              31.0|    1|    0|          345763|   18.0| null|       S|   Mrs|\n",
      "|         20|       1|     3|Masselmani, Mrs. ...|female|30.079501879699244|    0|    0|            2649|  7.225| null|       C|   Mrs|\n",
      "+-----------+--------+------+--------------------+------+------------------+-----+-----+----------------+-------+-----+--------+------+\n",
      "only showing top 20 rows\n",
      "\n"
     ]
    }
   ],
   "source": [
    "df.show()"
   ]
  },
  {
   "cell_type": "markdown",
   "metadata": {
    "id": "yzSDsWsUj9Im"
   },
   "source": [
    "**Create the temporary view:**"
   ]
  },
  {
   "cell_type": "code",
   "execution_count": 51,
   "metadata": {
    "id": "MR7CXTY7_tMJ"
   },
   "outputs": [],
   "source": [
    "df.createOrReplaceTempView('Data')"
   ]
  },
  {
   "cell_type": "markdown",
   "metadata": {
    "id": "Gv7lfQFkrLlN"
   },
   "source": [
    "**Select \"Cabin\" column, count Cabin column, Group by \"Cabin\" column, Order By count DESC**  "
   ]
  },
  {
   "cell_type": "code",
   "execution_count": 52,
   "metadata": {
    "id": "A0tZG_mvrKXv"
   },
   "outputs": [
    {
     "name": "stdout",
     "output_type": "stream",
     "text": [
      "+-----+----------+\n",
      "|Cabin|CabinCount|\n",
      "+-----+----------+\n",
      "|    C|        82|\n",
      "|    B|        77|\n",
      "|    D|        52|\n",
      "|    E|        51|\n",
      "|    A|        23|\n",
      "|    F|        18|\n",
      "|    G|         4|\n",
      "|    T|         1|\n",
      "| null|         0|\n",
      "+-----+----------+\n",
      "\n"
     ]
    }
   ],
   "source": [
    "spark.sql('select Cabin,count(Cabin) as CabinCount from Data group by Cabin order by CabinCount desc').show()"
   ]
  },
  {
   "cell_type": "markdown",
   "metadata": {
    "id": "1GR6j0LOsB4y"
   },
   "source": [
    "**Fill missing values with \"U\":**"
   ]
  },
  {
   "cell_type": "code",
   "execution_count": 53,
   "metadata": {
    "id": "mwq5CHEz_up_"
   },
   "outputs": [],
   "source": [
    "df = df.na.fill({'Cabin':'U'})"
   ]
  },
  {
   "cell_type": "code",
   "execution_count": 54,
   "metadata": {},
   "outputs": [
    {
     "name": "stdout",
     "output_type": "stream",
     "text": [
      "+-----------+--------+------+--------------------+------+------------------+-----+-----+----------------+-------+-----+--------+------+\n",
      "|PassengerId|Survived|Pclass|                Name|   Sex|               Age|SibSp|Parch|          Ticket|   Fare|Cabin|Embarked| Title|\n",
      "+-----------+--------+------+--------------------+------+------------------+-----+-----+----------------+-------+-----+--------+------+\n",
      "|          1|       0|     3|Braund, Mr. Owen ...|  male|              22.0|    1|    0|       A/5 21171|   7.25|    U|       S|    Mr|\n",
      "|          2|       1|     1|Cumings, Mrs. Joh...|female|              38.0|    1|    0|        PC 17599|71.2833|    C|       C|   Mrs|\n",
      "|          3|       1|     3|Heikkinen, Miss. ...|female|              26.0|    0|    0|STON/O2. 3101282|  7.925|    U|       S|  Miss|\n",
      "|          4|       1|     1|Futrelle, Mrs. Ja...|female|              35.0|    1|    0|          113803|   53.1|    C|       S|   Mrs|\n",
      "|          5|       0|     3|Allen, Mr. Willia...|  male|              35.0|    0|    0|          373450|   8.05|    U|       S|    Mr|\n",
      "|          6|       0|     3|    Moran, Mr. James|  male|30.079501879699244|    0|    0|          330877| 8.4583|    U|       Q|    Mr|\n",
      "|          7|       0|     1|McCarthy, Mr. Tim...|  male|              54.0|    0|    0|           17463|51.8625|    E|       S|    Mr|\n",
      "|          8|       0|     3|Palsson, Master. ...|  male|               2.0|    3|    1|          349909| 21.075|    U|       S|Master|\n",
      "|          9|       1|     3|Johnson, Mrs. Osc...|female|              27.0|    0|    2|          347742|11.1333|    U|       S|   Mrs|\n",
      "|         10|       1|     2|Nasser, Mrs. Nich...|female|              14.0|    1|    0|          237736|30.0708|    U|       C|   Mrs|\n",
      "|         11|       1|     3|Sandstrom, Miss. ...|female|               4.0|    1|    1|         PP 9549|   16.7|    G|       S|  Miss|\n",
      "|         12|       1|     1|Bonnell, Miss. El...|female|              58.0|    0|    0|          113783|  26.55|    C|       S|  Miss|\n",
      "|         13|       0|     3|Saundercock, Mr. ...|  male|              20.0|    0|    0|       A/5. 2151|   8.05|    U|       S|    Mr|\n",
      "|         14|       0|     3|Andersson, Mr. An...|  male|              39.0|    1|    5|          347082| 31.275|    U|       S|    Mr|\n",
      "|         15|       0|     3|Vestrom, Miss. Hu...|female|              14.0|    0|    0|          350406| 7.8542|    U|       S|  Miss|\n",
      "|         16|       1|     2|Hewlett, Mrs. (Ma...|female|              55.0|    0|    0|          248706|   16.0|    U|       S|   Mrs|\n",
      "|         17|       0|     3|Rice, Master. Eugene|  male|               2.0|    4|    1|          382652| 29.125|    U|       Q|Master|\n",
      "|         18|       1|     2|Williams, Mr. Cha...|  male|30.079501879699244|    0|    0|          244373|   13.0|    U|       S|    Mr|\n",
      "|         19|       0|     3|Vander Planke, Mr...|female|              31.0|    1|    0|          345763|   18.0|    U|       S|   Mrs|\n",
      "|         20|       1|     3|Masselmani, Mrs. ...|female|30.079501879699244|    0|    0|            2649|  7.225|    U|       C|   Mrs|\n",
      "+-----------+--------+------+--------------------+------+------------------+-----+-----+----------------+-------+-----+--------+------+\n",
      "only showing top 20 rows\n",
      "\n"
     ]
    }
   ],
   "source": [
    "df.show()"
   ]
  },
  {
   "cell_type": "markdown",
   "metadata": {
    "id": "RRnhA_5-0Hi4"
   },
   "source": [
    "**StringIndexer: A label indexer that maps a string column of labels to an ML column of label indices. If the input column is numeric, we cast it to string and index the string values. The indices are in [0, numLabels). By default, this is ordered by label frequencies so the most frequent label gets index 0. The ordering behavior is controlled by setting stringOrderType. Its default value is ‘frequencyDesc’.**"
   ]
  },
  {
   "cell_type": "code",
   "execution_count": 55,
   "metadata": {},
   "outputs": [],
   "source": [
    "from pyspark.ml.feature import StringIndexer"
   ]
  },
  {
   "cell_type": "markdown",
   "metadata": {
    "id": "1RIKlOX71GQ-"
   },
   "source": [
    "**StringIndexer(inputCol=None, outputCol=None)**"
   ]
  },
  {
   "cell_type": "code",
   "execution_count": 56,
   "metadata": {},
   "outputs": [
    {
     "data": {
      "text/plain": [
       "(['Name', 'Sex', 'Ticket', 'Cabin', 'Embarked', 'Title'],\n",
       " ['Name_index',\n",
       "  'Sex_index',\n",
       "  'Ticket_index',\n",
       "  'Cabin_index',\n",
       "  'Embarked_index',\n",
       "  'Title_index'])"
      ]
     },
     "execution_count": 56,
     "metadata": {},
     "output_type": "execute_result"
    }
   ],
   "source": [
    "cat = [c[0] for c in df.dtypes if c[1] == 'string']\n",
    "cat_indexed = [c + '_index'for c in cat]\n",
    "cat,cat_indexed,"
   ]
  },
  {
   "cell_type": "code",
   "execution_count": 57,
   "metadata": {},
   "outputs": [
    {
     "data": {
      "text/plain": [
       "['PassengerId', 'Survived', 'Pclass', 'Age', 'SibSp', 'Parch', 'Fare']"
      ]
     },
     "execution_count": 57,
     "metadata": {},
     "output_type": "execute_result"
    }
   ],
   "source": [
    "numer = [c[0] for c in df.dtypes if c[1] != 'string']\n",
    "numer"
   ]
  },
  {
   "cell_type": "code",
   "execution_count": 58,
   "metadata": {},
   "outputs": [],
   "source": [
    "stringIndexer = StringIndexer(inputCols=cat,outputCols=cat_indexed,handleInvalid='skip')"
   ]
  },
  {
   "cell_type": "code",
   "execution_count": 59,
   "metadata": {},
   "outputs": [
    {
     "name": "stdout",
     "output_type": "stream",
     "text": [
      "+-----------+--------+------+--------------------+------+------------------+-----+-----+----------------+-------+-----+--------+------+------------+---------+--------------+-----------+-----------+----------+\n",
      "|PassengerId|Survived|Pclass|                Name|   Sex|               Age|SibSp|Parch|          Ticket|   Fare|Cabin|Embarked| Title|Ticket_index|Sex_index|Embarked_index|Title_index|Cabin_index|Name_index|\n",
      "+-----------+--------+------+--------------------+------+------------------+-----+-----+----------------+-------+-----+--------+------+------------+---------+--------------+-----------+-----------+----------+\n",
      "|          1|       0|     3|Braund, Mr. Owen ...|  male|              22.0|    1|    0|       A/5 21171|   7.25|    U|       S|    Mr|       610.0|      0.0|           0.0|        0.0|        0.0|     525.0|\n",
      "|          2|       1|     1|Cumings, Mrs. Joh...|female|              38.0|    1|    0|        PC 17599|71.2833|    C|       C|   Mrs|       641.0|      1.0|           1.0|        2.0|        1.0|     559.0|\n",
      "|          3|       1|     3|Heikkinen, Miss. ...|female|              26.0|    0|    0|STON/O2. 3101282|  7.925|    U|       S|  Miss|       674.0|      1.0|           0.0|        1.0|        0.0|     634.0|\n",
      "|          4|       1|     1|Futrelle, Mrs. Ja...|female|              35.0|    1|    0|          113803|   53.1|    C|       S|   Mrs|       128.0|      1.0|           0.0|        2.0|        1.0|     596.0|\n",
      "|          5|       0|     3|Allen, Mr. Willia...|  male|              35.0|    0|    0|          373450|   8.05|    U|       S|    Mr|       589.0|      0.0|           0.0|        0.0|        0.0|     474.0|\n",
      "|          6|       0|     3|    Moran, Mr. James|  male|30.079501879699244|    0|    0|          330877| 8.4583|    U|       Q|    Mr|       508.0|      0.0|           2.0|        0.0|        0.0|     720.0|\n",
      "|          7|       0|     1|McCarthy, Mr. Tim...|  male|              54.0|    0|    0|           17463|51.8625|    E|       S|    Mr|       433.0|      0.0|           0.0|        0.0|        4.0|     698.0|\n",
      "|          8|       0|     3|Palsson, Master. ...|  male|               2.0|    3|    1|          349909| 21.075|    U|       S|Master|        19.0|      0.0|           0.0|        3.0|        0.0|     757.0|\n",
      "|          9|       1|     3|Johnson, Mrs. Osc...|female|              27.0|    0|    2|          347742|11.1333|    U|       S|   Mrs|        44.0|      1.0|           0.0|        2.0|        0.0|     661.0|\n",
      "|         10|       1|     2|Nasser, Mrs. Nich...|female|              14.0|    1|    0|          237736|30.0708|    U|       C|   Mrs|       169.0|      1.0|           1.0|        2.0|        0.0|     728.0|\n",
      "|         11|       1|     3|Sandstrom, Miss. ...|female|               4.0|    1|    1|         PP 9549|   16.7|    G|       S|  Miss|       382.0|      1.0|           0.0|        1.0|        7.0|     807.0|\n",
      "|         12|       1|     1|Bonnell, Miss. El...|female|              58.0|    0|    0|          113783|  26.55|    C|       S|  Miss|       423.0|      1.0|           0.0|        1.0|        1.0|     520.0|\n",
      "|         13|       0|     3|Saundercock, Mr. ...|  male|              20.0|    0|    0|       A/5. 2151|   8.05|    U|       S|    Mr|       618.0|      0.0|           0.0|        0.0|        0.0|     809.0|\n",
      "|         14|       0|     3|Andersson, Mr. An...|  male|              39.0|    1|    5|          347082| 31.275|    U|       S|    Mr|         1.0|      0.0|           0.0|        0.0|        0.0|     480.0|\n",
      "|         15|       0|     3|Vestrom, Miss. Hu...|female|              14.0|    0|    0|          350406| 7.8542|    U|       S|  Miss|       571.0|      1.0|           0.0|        1.0|        0.0|     861.0|\n",
      "|         16|       1|     2|Hewlett, Mrs. (Ma...|female|              55.0|    0|    0|          248706|   16.0|    U|       S|   Mrs|       457.0|      1.0|           0.0|        2.0|        0.0|     637.0|\n",
      "|         17|       0|     3|Rice, Master. Eugene|  male|               2.0|    4|    1|          382652| 29.125|    U|       Q|Master|         8.0|      0.0|           2.0|        3.0|        0.0|     787.0|\n",
      "|         18|       1|     2|Williams, Mr. Cha...|  male|30.079501879699244|    0|    0|          244373|   13.0|    U|       S|    Mr|       455.0|      0.0|           0.0|        0.0|        0.0|     877.0|\n",
      "|         19|       0|     3|Vander Planke, Mr...|female|              31.0|    1|    0|          345763|   18.0|    U|       S|   Mrs|       524.0|      1.0|           0.0|        2.0|        0.0|     860.0|\n",
      "|         20|       1|     3|Masselmani, Mrs. ...|female|30.079501879699244|    0|    0|            2649|  7.225|    U|       C|   Mrs|       470.0|      1.0|           1.0|        2.0|        0.0|     696.0|\n",
      "+-----------+--------+------+--------------------+------+------------------+-----+-----+----------------+-------+-----+--------+------+------------+---------+--------------+-----------+-----------+----------+\n",
      "only showing top 20 rows\n",
      "\n"
     ]
    }
   ],
   "source": [
    "st = stringIndexer.fit(df).transform(df)\n",
    "st.show()"
   ]
  },
  {
   "cell_type": "markdown",
   "metadata": {
    "id": "c0c_Hf_b0R12"
   },
   "source": [
    "**Pipeline: ML Pipelines provide a uniform set of high-level APIs built on top of DataFrames that help users create and tune practical machine learning pipelines.**"
   ]
  },
  {
   "cell_type": "markdown",
   "metadata": {
    "id": "sWfXaZ0I4dXD"
   },
   "source": [
    "____________________________________________"
   ]
  },
  {
   "cell_type": "markdown",
   "metadata": {
    "id": "KmcT3Afi0tRf"
   },
   "source": [
    "**Create list comprehension, use StringIndexer to Converting \"Sex, Embarked, Title, and Cabin\" columns to column name+index like \"Title_index\":**"
   ]
  },
  {
   "cell_type": "markdown",
   "metadata": {
    "id": "RzFCa54R15-g"
   },
   "source": [
    "**Use Pipline to fit and transform:**"
   ]
  },
  {
   "cell_type": "code",
   "execution_count": 60,
   "metadata": {
    "id": "FXhtC8jH_xHE"
   },
   "outputs": [],
   "source": [
    "from pyspark.ml import Pipeline"
   ]
  },
  {
   "cell_type": "markdown",
   "metadata": {
    "id": "Qlm2ZbgR4Cyg"
   },
   "source": [
    "**Drop \"Sex, PassengerId, Name, Title, SibSp, Parch, Ticket, Cabin, Embarked\" columns**"
   ]
  },
  {
   "cell_type": "code",
   "execution_count": 61,
   "metadata": {
    "id": "XVj3iumKAiyv"
   },
   "outputs": [],
   "source": [
    "df_ = df.drop('Sex','PassengerId','Name','Title','SibSp','Ticket','Cabin','Embarked')"
   ]
  },
  {
   "cell_type": "markdown",
   "metadata": {
    "id": "69Yc8MwC4ggb"
   },
   "source": [
    "**Convert to pandas**"
   ]
  },
  {
   "cell_type": "code",
   "execution_count": 62,
   "metadata": {
    "id": "R9Vfe1ZUAO9o"
   },
   "outputs": [],
   "source": [
    "df_pd = df_.toPandas()"
   ]
  },
  {
   "cell_type": "markdown",
   "metadata": {
    "id": "nLJAstwQ4pgg"
   },
   "source": [
    "**Display result**"
   ]
  },
  {
   "cell_type": "code",
   "execution_count": 63,
   "metadata": {
    "id": "xiIo669gAmHb"
   },
   "outputs": [
    {
     "data": {
      "text/html": [
       "<div>\n",
       "<style scoped>\n",
       "    .dataframe tbody tr th:only-of-type {\n",
       "        vertical-align: middle;\n",
       "    }\n",
       "\n",
       "    .dataframe tbody tr th {\n",
       "        vertical-align: top;\n",
       "    }\n",
       "\n",
       "    .dataframe thead th {\n",
       "        text-align: right;\n",
       "    }\n",
       "</style>\n",
       "<table border=\"1\" class=\"dataframe\">\n",
       "  <thead>\n",
       "    <tr style=\"text-align: right;\">\n",
       "      <th></th>\n",
       "      <th>Survived</th>\n",
       "      <th>Pclass</th>\n",
       "      <th>Age</th>\n",
       "      <th>Parch</th>\n",
       "      <th>Fare</th>\n",
       "    </tr>\n",
       "  </thead>\n",
       "  <tbody>\n",
       "    <tr>\n",
       "      <th>0</th>\n",
       "      <td>0</td>\n",
       "      <td>3</td>\n",
       "      <td>22.000000</td>\n",
       "      <td>0</td>\n",
       "      <td>7.2500</td>\n",
       "    </tr>\n",
       "    <tr>\n",
       "      <th>1</th>\n",
       "      <td>1</td>\n",
       "      <td>1</td>\n",
       "      <td>38.000000</td>\n",
       "      <td>0</td>\n",
       "      <td>71.2833</td>\n",
       "    </tr>\n",
       "    <tr>\n",
       "      <th>2</th>\n",
       "      <td>1</td>\n",
       "      <td>3</td>\n",
       "      <td>26.000000</td>\n",
       "      <td>0</td>\n",
       "      <td>7.9250</td>\n",
       "    </tr>\n",
       "    <tr>\n",
       "      <th>3</th>\n",
       "      <td>1</td>\n",
       "      <td>1</td>\n",
       "      <td>35.000000</td>\n",
       "      <td>0</td>\n",
       "      <td>53.1000</td>\n",
       "    </tr>\n",
       "    <tr>\n",
       "      <th>4</th>\n",
       "      <td>0</td>\n",
       "      <td>3</td>\n",
       "      <td>35.000000</td>\n",
       "      <td>0</td>\n",
       "      <td>8.0500</td>\n",
       "    </tr>\n",
       "    <tr>\n",
       "      <th>...</th>\n",
       "      <td>...</td>\n",
       "      <td>...</td>\n",
       "      <td>...</td>\n",
       "      <td>...</td>\n",
       "      <td>...</td>\n",
       "    </tr>\n",
       "    <tr>\n",
       "      <th>1324</th>\n",
       "      <td>0</td>\n",
       "      <td>2</td>\n",
       "      <td>27.000000</td>\n",
       "      <td>0</td>\n",
       "      <td>13.0000</td>\n",
       "    </tr>\n",
       "    <tr>\n",
       "      <th>1325</th>\n",
       "      <td>1</td>\n",
       "      <td>1</td>\n",
       "      <td>19.000000</td>\n",
       "      <td>0</td>\n",
       "      <td>30.0000</td>\n",
       "    </tr>\n",
       "    <tr>\n",
       "      <th>1326</th>\n",
       "      <td>0</td>\n",
       "      <td>3</td>\n",
       "      <td>30.079502</td>\n",
       "      <td>2</td>\n",
       "      <td>23.4500</td>\n",
       "    </tr>\n",
       "    <tr>\n",
       "      <th>1327</th>\n",
       "      <td>1</td>\n",
       "      <td>1</td>\n",
       "      <td>26.000000</td>\n",
       "      <td>0</td>\n",
       "      <td>30.0000</td>\n",
       "    </tr>\n",
       "    <tr>\n",
       "      <th>1328</th>\n",
       "      <td>0</td>\n",
       "      <td>3</td>\n",
       "      <td>32.000000</td>\n",
       "      <td>0</td>\n",
       "      <td>7.7500</td>\n",
       "    </tr>\n",
       "  </tbody>\n",
       "</table>\n",
       "<p>1329 rows × 5 columns</p>\n",
       "</div>"
      ],
      "text/plain": [
       "      Survived  Pclass        Age  Parch     Fare\n",
       "0            0       3  22.000000      0   7.2500\n",
       "1            1       1  38.000000      0  71.2833\n",
       "2            1       3  26.000000      0   7.9250\n",
       "3            1       1  35.000000      0  53.1000\n",
       "4            0       3  35.000000      0   8.0500\n",
       "...        ...     ...        ...    ...      ...\n",
       "1324         0       2  27.000000      0  13.0000\n",
       "1325         1       1  19.000000      0  30.0000\n",
       "1326         0       3  30.079502      2  23.4500\n",
       "1327         1       1  26.000000      0  30.0000\n",
       "1328         0       3  32.000000      0   7.7500\n",
       "\n",
       "[1329 rows x 5 columns]"
      ]
     },
     "execution_count": 63,
     "metadata": {},
     "output_type": "execute_result"
    }
   ],
   "source": [
    "df_pd"
   ]
  },
  {
   "cell_type": "markdown",
   "metadata": {
    "id": "1FsiLsd9452v"
   },
   "source": [
    "**VectorAssembler: VectorAssembler(*, inputCols=None, outputCol=None) A feature transformer that merges multiple columns into a vector column.**\n",
    "\n"
   ]
  },
  {
   "cell_type": "markdown",
   "metadata": {
    "id": "R0XLjbGQ5NUR"
   },
   "source": [
    "**Use VectorAssembler and set InputCols the to \"train from first coloumn to end\" and set the Output to \"features\"** "
   ]
  },
  {
   "cell_type": "code",
   "execution_count": 64,
   "metadata": {
    "id": "GbZ_FxHCAstl"
   },
   "outputs": [],
   "source": [
    "from pyspark.ml.feature import VectorAssembler"
   ]
  },
  {
   "cell_type": "markdown",
   "metadata": {
    "id": "aP9PrLe45Tvv"
   },
   "source": [
    "**Use VectorAssembler and set the \"InputCols\" to test all column and set the \"Output\" to \"features\":**"
   ]
  },
  {
   "cell_type": "code",
   "execution_count": 65,
   "metadata": {
    "id": "BPznOTfJAwji"
   },
   "outputs": [
    {
     "data": {
      "text/html": [
       "<div>\n",
       "<style scoped>\n",
       "    .dataframe tbody tr th:only-of-type {\n",
       "        vertical-align: middle;\n",
       "    }\n",
       "\n",
       "    .dataframe tbody tr th {\n",
       "        vertical-align: top;\n",
       "    }\n",
       "\n",
       "    .dataframe thead th {\n",
       "        text-align: right;\n",
       "    }\n",
       "</style>\n",
       "<table border=\"1\" class=\"dataframe\">\n",
       "  <thead>\n",
       "    <tr style=\"text-align: right;\">\n",
       "      <th></th>\n",
       "      <th>count(DISTINCT PassengerId)</th>\n",
       "      <th>count(DISTINCT Survived)</th>\n",
       "      <th>count(DISTINCT Pclass)</th>\n",
       "      <th>count(DISTINCT Name)</th>\n",
       "      <th>count(DISTINCT Sex)</th>\n",
       "      <th>count(DISTINCT Age)</th>\n",
       "      <th>count(DISTINCT SibSp)</th>\n",
       "      <th>count(DISTINCT Parch)</th>\n",
       "      <th>count(DISTINCT Ticket)</th>\n",
       "      <th>count(DISTINCT Fare)</th>\n",
       "      <th>count(DISTINCT Cabin)</th>\n",
       "      <th>count(DISTINCT Embarked)</th>\n",
       "      <th>count(DISTINCT Title)</th>\n",
       "    </tr>\n",
       "  </thead>\n",
       "  <tbody>\n",
       "    <tr>\n",
       "      <th>0</th>\n",
       "      <td>891</td>\n",
       "      <td>2</td>\n",
       "      <td>3</td>\n",
       "      <td>891</td>\n",
       "      <td>2</td>\n",
       "      <td>89</td>\n",
       "      <td>7</td>\n",
       "      <td>7</td>\n",
       "      <td>681</td>\n",
       "      <td>248</td>\n",
       "      <td>9</td>\n",
       "      <td>3</td>\n",
       "      <td>5</td>\n",
       "    </tr>\n",
       "  </tbody>\n",
       "</table>\n",
       "</div>"
      ],
      "text/plain": [
       "   count(DISTINCT PassengerId)  count(DISTINCT Survived)  \\\n",
       "0                          891                         2   \n",
       "\n",
       "   count(DISTINCT Pclass)  count(DISTINCT Name)  count(DISTINCT Sex)  \\\n",
       "0                       3                   891                    2   \n",
       "\n",
       "   count(DISTINCT Age)  count(DISTINCT SibSp)  count(DISTINCT Parch)  \\\n",
       "0                   89                      7                      7   \n",
       "\n",
       "   count(DISTINCT Ticket)  count(DISTINCT Fare)  count(DISTINCT Cabin)  \\\n",
       "0                     681                   248                      9   \n",
       "\n",
       "   count(DISTINCT Embarked)  count(DISTINCT Title)  \n",
       "0                         3                      5  "
      ]
     },
     "execution_count": 65,
     "metadata": {},
     "output_type": "execute_result"
    }
   ],
   "source": [
    "df.select([countDistinct(c) for c in df.columns]).toPandas()"
   ]
  },
  {
   "cell_type": "markdown",
   "metadata": {
    "id": "dU8DeZfh7JIo"
   },
   "source": [
    "**Use randomSplit function and split data to x_train, and X_test with 80% and 20% Consecutive**"
   ]
  },
  {
   "cell_type": "code",
   "execution_count": 66,
   "metadata": {
    "id": "8C11xf1iAzKp"
   },
   "outputs": [],
   "source": [
    "features = ['Pclass', 'Age', 'SibSp', 'Parch', 'Fare'\n",
    ",'Sex_index','Cabin_index','Embarked_index','Title_index']"
   ]
  },
  {
   "cell_type": "code",
   "execution_count": 67,
   "metadata": {},
   "outputs": [],
   "source": [
    "vecAssem = VectorAssembler(inputCols=features,outputCol='features')"
   ]
  },
  {
   "cell_type": "code",
   "execution_count": 68,
   "metadata": {},
   "outputs": [
    {
     "name": "stdout",
     "output_type": "stream",
     "text": [
      "+-----------+--------+------+--------------------+------+------------------+-----+-----+----------------+-------+-----+--------+------+------------+---------+--------------+-----------+-----------+----------+--------------------+\n",
      "|PassengerId|Survived|Pclass|                Name|   Sex|               Age|SibSp|Parch|          Ticket|   Fare|Cabin|Embarked| Title|Ticket_index|Sex_index|Embarked_index|Title_index|Cabin_index|Name_index|            features|\n",
      "+-----------+--------+------+--------------------+------+------------------+-----+-----+----------------+-------+-----+--------+------+------------+---------+--------------+-----------+-----------+----------+--------------------+\n",
      "|          1|       0|     3|Braund, Mr. Owen ...|  male|              22.0|    1|    0|       A/5 21171|   7.25|    U|       S|    Mr|       610.0|      0.0|           0.0|        0.0|        0.0|     525.0|(9,[0,1,2,4],[3.0...|\n",
      "|          2|       1|     1|Cumings, Mrs. Joh...|female|              38.0|    1|    0|        PC 17599|71.2833|    C|       C|   Mrs|       641.0|      1.0|           1.0|        2.0|        1.0|     559.0|[1.0,38.0,1.0,0.0...|\n",
      "|          3|       1|     3|Heikkinen, Miss. ...|female|              26.0|    0|    0|STON/O2. 3101282|  7.925|    U|       S|  Miss|       674.0|      1.0|           0.0|        1.0|        0.0|     634.0|[3.0,26.0,0.0,0.0...|\n",
      "|          4|       1|     1|Futrelle, Mrs. Ja...|female|              35.0|    1|    0|          113803|   53.1|    C|       S|   Mrs|       128.0|      1.0|           0.0|        2.0|        1.0|     596.0|[1.0,35.0,1.0,0.0...|\n",
      "|          5|       0|     3|Allen, Mr. Willia...|  male|              35.0|    0|    0|          373450|   8.05|    U|       S|    Mr|       589.0|      0.0|           0.0|        0.0|        0.0|     474.0|(9,[0,1,4],[3.0,3...|\n",
      "|          6|       0|     3|    Moran, Mr. James|  male|30.079501879699244|    0|    0|          330877| 8.4583|    U|       Q|    Mr|       508.0|      0.0|           2.0|        0.0|        0.0|     720.0|(9,[0,1,4,7],[3.0...|\n",
      "|          7|       0|     1|McCarthy, Mr. Tim...|  male|              54.0|    0|    0|           17463|51.8625|    E|       S|    Mr|       433.0|      0.0|           0.0|        0.0|        4.0|     698.0|(9,[0,1,4,6],[1.0...|\n",
      "|          8|       0|     3|Palsson, Master. ...|  male|               2.0|    3|    1|          349909| 21.075|    U|       S|Master|        19.0|      0.0|           0.0|        3.0|        0.0|     757.0|[3.0,2.0,3.0,1.0,...|\n",
      "|          9|       1|     3|Johnson, Mrs. Osc...|female|              27.0|    0|    2|          347742|11.1333|    U|       S|   Mrs|        44.0|      1.0|           0.0|        2.0|        0.0|     661.0|[3.0,27.0,0.0,2.0...|\n",
      "|         10|       1|     2|Nasser, Mrs. Nich...|female|              14.0|    1|    0|          237736|30.0708|    U|       C|   Mrs|       169.0|      1.0|           1.0|        2.0|        0.0|     728.0|[2.0,14.0,1.0,0.0...|\n",
      "|         11|       1|     3|Sandstrom, Miss. ...|female|               4.0|    1|    1|         PP 9549|   16.7|    G|       S|  Miss|       382.0|      1.0|           0.0|        1.0|        7.0|     807.0|[3.0,4.0,1.0,1.0,...|\n",
      "|         12|       1|     1|Bonnell, Miss. El...|female|              58.0|    0|    0|          113783|  26.55|    C|       S|  Miss|       423.0|      1.0|           0.0|        1.0|        1.0|     520.0|[1.0,58.0,0.0,0.0...|\n",
      "|         13|       0|     3|Saundercock, Mr. ...|  male|              20.0|    0|    0|       A/5. 2151|   8.05|    U|       S|    Mr|       618.0|      0.0|           0.0|        0.0|        0.0|     809.0|(9,[0,1,4],[3.0,2...|\n",
      "|         14|       0|     3|Andersson, Mr. An...|  male|              39.0|    1|    5|          347082| 31.275|    U|       S|    Mr|         1.0|      0.0|           0.0|        0.0|        0.0|     480.0|[3.0,39.0,1.0,5.0...|\n",
      "|         15|       0|     3|Vestrom, Miss. Hu...|female|              14.0|    0|    0|          350406| 7.8542|    U|       S|  Miss|       571.0|      1.0|           0.0|        1.0|        0.0|     861.0|[3.0,14.0,0.0,0.0...|\n",
      "|         16|       1|     2|Hewlett, Mrs. (Ma...|female|              55.0|    0|    0|          248706|   16.0|    U|       S|   Mrs|       457.0|      1.0|           0.0|        2.0|        0.0|     637.0|[2.0,55.0,0.0,0.0...|\n",
      "|         17|       0|     3|Rice, Master. Eugene|  male|               2.0|    4|    1|          382652| 29.125|    U|       Q|Master|         8.0|      0.0|           2.0|        3.0|        0.0|     787.0|[3.0,2.0,4.0,1.0,...|\n",
      "|         18|       1|     2|Williams, Mr. Cha...|  male|30.079501879699244|    0|    0|          244373|   13.0|    U|       S|    Mr|       455.0|      0.0|           0.0|        0.0|        0.0|     877.0|(9,[0,1,4],[2.0,3...|\n",
      "|         19|       0|     3|Vander Planke, Mr...|female|              31.0|    1|    0|          345763|   18.0|    U|       S|   Mrs|       524.0|      1.0|           0.0|        2.0|        0.0|     860.0|[3.0,31.0,1.0,0.0...|\n",
      "|         20|       1|     3|Masselmani, Mrs. ...|female|30.079501879699244|    0|    0|            2649|  7.225|    U|       C|   Mrs|       470.0|      1.0|           1.0|        2.0|        0.0|     696.0|[3.0,30.079501879...|\n",
      "+-----------+--------+------+--------------------+------+------------------+-----+-----+----------------+-------+-----+--------+------+------------+---------+--------------+-----------+-----------+----------+--------------------+\n",
      "only showing top 20 rows\n",
      "\n"
     ]
    }
   ],
   "source": [
    "vecAssem.transform(st).show()"
   ]
  },
  {
   "cell_type": "markdown",
   "metadata": {
    "id": "IJQvmFai72O7"
   },
   "source": [
    "**Use RandomForestClassifier to fit and transform then display \"prediction, Survived, features\" columns**"
   ]
  },
  {
   "cell_type": "code",
   "execution_count": 69,
   "metadata": {
    "id": "MzIDSJzgA035"
   },
   "outputs": [],
   "source": [
    "x_train,x_test = df.randomSplit([0.8,0.2],42)"
   ]
  },
  {
   "cell_type": "code",
   "execution_count": 70,
   "metadata": {},
   "outputs": [
    {
     "name": "stdout",
     "output_type": "stream",
     "text": [
      "root\n",
      " |-- PassengerId: integer (nullable = true)\n",
      " |-- Survived: integer (nullable = true)\n",
      " |-- Pclass: integer (nullable = true)\n",
      " |-- Name: string (nullable = true)\n",
      " |-- Sex: string (nullable = true)\n",
      " |-- Age: double (nullable = false)\n",
      " |-- SibSp: integer (nullable = true)\n",
      " |-- Parch: integer (nullable = true)\n",
      " |-- Ticket: string (nullable = true)\n",
      " |-- Fare: double (nullable = true)\n",
      " |-- Cabin: string (nullable = false)\n",
      " |-- Embarked: string (nullable = false)\n",
      " |-- Title: string (nullable = true)\n",
      "\n"
     ]
    }
   ],
   "source": [
    "x_train.printSchema()"
   ]
  },
  {
   "cell_type": "markdown",
   "metadata": {
    "id": "FSXEI8-r8bKY"
   },
   "source": [
    "**Use MulticlassClassificationEvaluator and set the \"labelCol\" to \"Survived\",  \"predictionCol\" to \"prediction\", \"metricName\" to \"accuracy\"** "
   ]
  },
  {
   "cell_type": "code",
   "execution_count": 71,
   "metadata": {
    "id": "Rl0UAKCaBDO-"
   },
   "outputs": [],
   "source": [
    "from pyspark.ml.classification import RandomForestClassifier"
   ]
  },
  {
   "cell_type": "code",
   "execution_count": 72,
   "metadata": {},
   "outputs": [],
   "source": [
    "rfc = RandomForestClassifier(featuresCol='features',labelCol='Survived')"
   ]
  },
  {
   "cell_type": "code",
   "execution_count": 73,
   "metadata": {},
   "outputs": [],
   "source": [
    "stages = [stringIndexer,vecAssem,rfc]\n",
    "pipeline = Pipeline(stages=stages)"
   ]
  },
  {
   "cell_type": "code",
   "execution_count": 74,
   "metadata": {},
   "outputs": [],
   "source": [
    "pipelineModel = pipeline.fit(x_train)\n"
   ]
  },
  {
   "cell_type": "code",
   "execution_count": 75,
   "metadata": {},
   "outputs": [],
   "source": [
    "predDF = pipelineModel.transform(x_test)"
   ]
  },
  {
   "cell_type": "code",
   "execution_count": 76,
   "metadata": {},
   "outputs": [
    {
     "name": "stdout",
     "output_type": "stream",
     "text": [
      "root\n",
      " |-- PassengerId: integer (nullable = true)\n",
      " |-- Survived: integer (nullable = true)\n",
      " |-- Pclass: integer (nullable = true)\n",
      " |-- Name: string (nullable = true)\n",
      " |-- Sex: string (nullable = true)\n",
      " |-- Age: double (nullable = false)\n",
      " |-- SibSp: integer (nullable = true)\n",
      " |-- Parch: integer (nullable = true)\n",
      " |-- Ticket: string (nullable = true)\n",
      " |-- Fare: double (nullable = true)\n",
      " |-- Cabin: string (nullable = false)\n",
      " |-- Embarked: string (nullable = false)\n",
      " |-- Title: string (nullable = true)\n",
      " |-- Ticket_index: double (nullable = false)\n",
      " |-- Sex_index: double (nullable = false)\n",
      " |-- Embarked_index: double (nullable = false)\n",
      " |-- Title_index: double (nullable = false)\n",
      " |-- Cabin_index: double (nullable = false)\n",
      " |-- Name_index: double (nullable = false)\n",
      " |-- features: vector (nullable = true)\n",
      " |-- rawPrediction: vector (nullable = true)\n",
      " |-- probability: vector (nullable = true)\n",
      " |-- prediction: double (nullable = false)\n",
      "\n"
     ]
    }
   ],
   "source": [
    "predDF.printSchema()"
   ]
  },
  {
   "cell_type": "markdown",
   "metadata": {
    "id": "zRGSUvTt8-os"
   },
   "source": [
    "**Use the model to predict**"
   ]
  },
  {
   "cell_type": "code",
   "execution_count": 77,
   "metadata": {},
   "outputs": [],
   "source": [
    "from pyspark.ml.evaluation import MulticlassClassificationEvaluator\n"
   ]
  },
  {
   "cell_type": "code",
   "execution_count": 78,
   "metadata": {},
   "outputs": [],
   "source": [
    "rf_evaluator = MulticlassClassificationEvaluator(metricName='accuracy',labelCol='Survived',predictionCol='prediction')"
   ]
  },
  {
   "cell_type": "code",
   "execution_count": 79,
   "metadata": {
    "id": "IpyrkChYBLjB"
   },
   "outputs": [
    {
     "data": {
      "text/plain": [
       "0.8391608391608392"
      ]
     },
     "execution_count": 79,
     "metadata": {},
     "output_type": "execute_result"
    }
   ],
   "source": [
    "rf_evaluator.evaluate(predDF)"
   ]
  },
  {
   "cell_type": "code",
   "execution_count": 86,
   "metadata": {
    "id": "cR4Ux2ymBOtc"
   },
   "outputs": [],
   "source": [
    "import pyspark.sql.functions as F"
   ]
  },
  {
   "cell_type": "code",
   "execution_count": 80,
   "metadata": {},
   "outputs": [],
   "source": [
    "prediction = pipelineModel.transform(x_test)"
   ]
  },
  {
   "cell_type": "code",
   "execution_count": 81,
   "metadata": {},
   "outputs": [
    {
     "name": "stdout",
     "output_type": "stream",
     "text": [
      "+-----------+\n",
      "|PassengerId|\n",
      "+-----------+\n",
      "|        464|\n",
      "|        474|\n",
      "|        477|\n",
      "|        480|\n",
      "|        485|\n",
      "|        490|\n",
      "|        497|\n",
      "|        504|\n",
      "|        505|\n",
      "|        507|\n",
      "|        512|\n",
      "|        515|\n",
      "|        518|\n",
      "|        519|\n",
      "|        537|\n",
      "|        549|\n",
      "|        555|\n",
      "|        558|\n",
      "|        572|\n",
      "|        577|\n",
      "+-----------+\n",
      "only showing top 20 rows\n",
      "\n"
     ]
    }
   ],
   "source": [
    "prediction.select('PassengerId').show()"
   ]
  },
  {
   "cell_type": "code",
   "execution_count": 87,
   "metadata": {},
   "outputs": [
    {
     "name": "stdout",
     "output_type": "stream",
     "text": [
      "+-----------+----------+\n",
      "|PassengerId|prediction|\n",
      "+-----------+----------+\n",
      "|        558|       0.0|\n",
      "+-----------+----------+\n",
      "\n"
     ]
    }
   ],
   "source": [
    "prediction.select('PassengerId','prediction').where(F.col('PassengerId')==558).show()"
   ]
  },
  {
   "cell_type": "markdown",
   "metadata": {
    "id": "sO6_R1zJ9R1R"
   },
   "source": [
    "**When you are finished send the project via Google classroom**\n",
    "**Please let me know if you have any questions.**\n",
    "* nabieh.mostafa@yahoo.com\n",
    "* +201015197566 (Whatsapp)\n",
    "\n",
    "**Don't Hate me, I push you to learn**\n",
    "\n",
    "**I will help you to become an awesome data engineer.**\n",
    "\n",
    "**Why did I say that \"Data Engineer\"?**\n",
    "\n",
    "**Tricky question, but an optional question, if you would like to know the answer, ask me.**\n"
   ]
  }
 ],
 "metadata": {
  "colab": {
   "collapsed_sections": [],
   "name": "Practical work.ipynb",
   "provenance": []
  },
  "kernelspec": {
   "display_name": "Python 3",
   "language": "python",
   "name": "python3"
  },
  "language_info": {
   "codemirror_mode": {
    "name": "ipython",
    "version": 3
   },
   "file_extension": ".py",
   "mimetype": "text/x-python",
   "name": "python",
   "nbconvert_exporter": "python",
   "pygments_lexer": "ipython3",
   "version": "3.7.6"
  }
 },
 "nbformat": 4,
 "nbformat_minor": 1
}
